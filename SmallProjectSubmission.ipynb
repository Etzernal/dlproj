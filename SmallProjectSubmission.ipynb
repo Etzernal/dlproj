{
 "cells": [
  {
   "cell_type": "code",
   "execution_count": 1,
   "metadata": {},
   "outputs": [],
   "source": [
    "RunningInCOLAB = 'google.colab' in str(get_ipython())"
   ]
  },
  {
   "cell_type": "code",
   "execution_count": 2,
   "metadata": {
    "colab": {
     "base_uri": "https://localhost:8080/"
    },
    "executionInfo": {
     "elapsed": 2208,
     "status": "ok",
     "timestamp": 1616058009079,
     "user": {
      "displayName": "15Y6C44 ONG WEI SONG",
      "photoUrl": "https://lh3.googleusercontent.com/a-/AOh14GhkHTfUdo7h8Mc3vTxNKmIS9CiB24shvF2svaAjLiG8g378ffDzoJHjXI9zsC75aDM_f-prF0I4YjZxsyetLMJ0f3YgMKt0xn7n2vx5U6spUW-rGkTAUZjwLvrtKS4INlUd7kqWpTrRLPs06ilqpY5nkQ6SfComjN61frbKoQntVSp9RKQVsx29gezbM_k27UV1UauerA_Hlj-yPwjGOb1VVl2StcEQtfJXfwB4a4OktzvpPHIP8_IDaPTZJtzrI0kHbkhtWOz2yFqLOhQ5W88uuf9OrVuQjKxR4dSAVpFH-RvyYa0nG73W0eAGQirj7Wjg6BHhVB0KJA7NoTb17uN3P5xCyQTi-cS5T-0YDYO46rNNY6IZGih_gIdrCxuqWx4VOIO2X_GikYCM-NBPnXQNWaeJ5eSwzmYTRpG1GctsahOhjnQmoSSQAJjBJ8bigSY4YDnmJ661VkGvvHORU221837tvoMHcj3gWw86zBqECgADcsZYuFmO4G1BRP7COWRTwvUuMKFWVKQ4jNg-PA0qzFSg1UPZEGoqynGSEk1POWcIpR8tyrdsOcRqETPhhQhG5F6rJi8Hlo4o9qGBNNQPRAB8EP_hgxStxBZ8rY9XhIwRFsS9bh2nYSGPiaxDLqXLt2OW2RrigDahzLk1qAC1nBSciJgWQqtXvoeo5NYW051CotPLFgoPEhoe_58LIHcdUP1myMTiPfIa1ekafPg4c8rgnge_ysHna_LuLicfLGvX-0CPlz_6ChsEwS6l4PERzw=s64",
      "userId": "13943995535295474863"
     },
     "user_tz": -480
    },
    "id": "e6FAYVhrhw1o",
    "outputId": "71483e13-aaee-4ae3-8ae7-34e573aa64a4"
   },
   "outputs": [],
   "source": [
    "if RunningInCOLAB:\n",
    "    from google.colab import drive\n",
    "    drive.mount('/content/gdrive/', force_remount=True)"
   ]
  },
  {
   "cell_type": "code",
   "execution_count": 3,
   "metadata": {
    "colab": {
     "base_uri": "https://localhost:8080/"
    },
    "executionInfo": {
     "elapsed": 747,
     "status": "ok",
     "timestamp": 1616058011044,
     "user": {
      "displayName": "15Y6C44 ONG WEI SONG",
      "photoUrl": "https://lh3.googleusercontent.com/a-/AOh14GhkHTfUdo7h8Mc3vTxNKmIS9CiB24shvF2svaAjLiG8g378ffDzoJHjXI9zsC75aDM_f-prF0I4YjZxsyetLMJ0f3YgMKt0xn7n2vx5U6spUW-rGkTAUZjwLvrtKS4INlUd7kqWpTrRLPs06ilqpY5nkQ6SfComjN61frbKoQntVSp9RKQVsx29gezbM_k27UV1UauerA_Hlj-yPwjGOb1VVl2StcEQtfJXfwB4a4OktzvpPHIP8_IDaPTZJtzrI0kHbkhtWOz2yFqLOhQ5W88uuf9OrVuQjKxR4dSAVpFH-RvyYa0nG73W0eAGQirj7Wjg6BHhVB0KJA7NoTb17uN3P5xCyQTi-cS5T-0YDYO46rNNY6IZGih_gIdrCxuqWx4VOIO2X_GikYCM-NBPnXQNWaeJ5eSwzmYTRpG1GctsahOhjnQmoSSQAJjBJ8bigSY4YDnmJ661VkGvvHORU221837tvoMHcj3gWw86zBqECgADcsZYuFmO4G1BRP7COWRTwvUuMKFWVKQ4jNg-PA0qzFSg1UPZEGoqynGSEk1POWcIpR8tyrdsOcRqETPhhQhG5F6rJi8Hlo4o9qGBNNQPRAB8EP_hgxStxBZ8rY9XhIwRFsS9bh2nYSGPiaxDLqXLt2OW2RrigDahzLk1qAC1nBSciJgWQqtXvoeo5NYW051CotPLFgoPEhoe_58LIHcdUP1myMTiPfIa1ekafPg4c8rgnge_ysHna_LuLicfLGvX-0CPlz_6ChsEwS6l4PERzw=s64",
      "userId": "13943995535295474863"
     },
     "user_tz": -480
    },
    "id": "4ARJFT82h6dm",
    "outputId": "7c61dbd3-f317-45a5-d8e1-b25657ea51ea"
   },
   "outputs": [],
   "source": [
    "if RunningInCOLAB:\n",
    "    cd /content/gdrive/MyDrive/DL_Small_Project"
   ]
  },
  {
   "cell_type": "code",
   "execution_count": 4,
   "metadata": {
    "executionInfo": {
     "elapsed": 1827,
     "status": "ok",
     "timestamp": 1616058016097,
     "user": {
      "displayName": "15Y6C44 ONG WEI SONG",
      "photoUrl": "https://lh3.googleusercontent.com/a-/AOh14GhkHTfUdo7h8Mc3vTxNKmIS9CiB24shvF2svaAjLiG8g378ffDzoJHjXI9zsC75aDM_f-prF0I4YjZxsyetLMJ0f3YgMKt0xn7n2vx5U6spUW-rGkTAUZjwLvrtKS4INlUd7kqWpTrRLPs06ilqpY5nkQ6SfComjN61frbKoQntVSp9RKQVsx29gezbM_k27UV1UauerA_Hlj-yPwjGOb1VVl2StcEQtfJXfwB4a4OktzvpPHIP8_IDaPTZJtzrI0kHbkhtWOz2yFqLOhQ5W88uuf9OrVuQjKxR4dSAVpFH-RvyYa0nG73W0eAGQirj7Wjg6BHhVB0KJA7NoTb17uN3P5xCyQTi-cS5T-0YDYO46rNNY6IZGih_gIdrCxuqWx4VOIO2X_GikYCM-NBPnXQNWaeJ5eSwzmYTRpG1GctsahOhjnQmoSSQAJjBJ8bigSY4YDnmJ661VkGvvHORU221837tvoMHcj3gWw86zBqECgADcsZYuFmO4G1BRP7COWRTwvUuMKFWVKQ4jNg-PA0qzFSg1UPZEGoqynGSEk1POWcIpR8tyrdsOcRqETPhhQhG5F6rJi8Hlo4o9qGBNNQPRAB8EP_hgxStxBZ8rY9XhIwRFsS9bh2nYSGPiaxDLqXLt2OW2RrigDahzLk1qAC1nBSciJgWQqtXvoeo5NYW051CotPLFgoPEhoe_58LIHcdUP1myMTiPfIa1ekafPg4c8rgnge_ysHna_LuLicfLGvX-0CPlz_6ChsEwS6l4PERzw=s64",
      "userId": "13943995535295474863"
     },
     "user_tz": -480
    },
    "id": "OVWptX9YkNnx"
   },
   "outputs": [],
   "source": [
    "# Matplotlib\n",
    "import matplotlib.pyplot as plt\n",
    "# Numpy\n",
    "import numpy as np\n",
    "# Pillow\n",
    "from PIL import Image\n",
    "# Torch\n",
    "import torch\n",
    "from torch.utils.data import Dataset, DataLoader\n",
    "import torch.nn as nn\n",
    "import torch.optim as optim\n",
    "import torch.nn.functional as F\n",
    "from torchvision import transforms\n",
    "# Tqdm\n",
    "from tqdm.notebook import tqdm\n",
    "# Datetime \n",
    "from datetime import datetime"
   ]
  },
  {
   "cell_type": "markdown",
   "metadata": {
    "id": "aXExP_VeLqwu"
   },
   "source": [
    "# 1) Creating Dataset Objects"
   ]
  },
  {
   "cell_type": "code",
   "execution_count": 5,
   "metadata": {
    "executionInfo": {
     "elapsed": 1121,
     "status": "ok",
     "timestamp": 1616058018107,
     "user": {
      "displayName": "15Y6C44 ONG WEI SONG",
      "photoUrl": "https://lh3.googleusercontent.com/a-/AOh14GhkHTfUdo7h8Mc3vTxNKmIS9CiB24shvF2svaAjLiG8g378ffDzoJHjXI9zsC75aDM_f-prF0I4YjZxsyetLMJ0f3YgMKt0xn7n2vx5U6spUW-rGkTAUZjwLvrtKS4INlUd7kqWpTrRLPs06ilqpY5nkQ6SfComjN61frbKoQntVSp9RKQVsx29gezbM_k27UV1UauerA_Hlj-yPwjGOb1VVl2StcEQtfJXfwB4a4OktzvpPHIP8_IDaPTZJtzrI0kHbkhtWOz2yFqLOhQ5W88uuf9OrVuQjKxR4dSAVpFH-RvyYa0nG73W0eAGQirj7Wjg6BHhVB0KJA7NoTb17uN3P5xCyQTi-cS5T-0YDYO46rNNY6IZGih_gIdrCxuqWx4VOIO2X_GikYCM-NBPnXQNWaeJ5eSwzmYTRpG1GctsahOhjnQmoSSQAJjBJ8bigSY4YDnmJ661VkGvvHORU221837tvoMHcj3gWw86zBqECgADcsZYuFmO4G1BRP7COWRTwvUuMKFWVKQ4jNg-PA0qzFSg1UPZEGoqynGSEk1POWcIpR8tyrdsOcRqETPhhQhG5F6rJi8Hlo4o9qGBNNQPRAB8EP_hgxStxBZ8rY9XhIwRFsS9bh2nYSGPiaxDLqXLt2OW2RrigDahzLk1qAC1nBSciJgWQqtXvoeo5NYW051CotPLFgoPEhoe_58LIHcdUP1myMTiPfIa1ekafPg4c8rgnge_ysHna_LuLicfLGvX-0CPlz_6ChsEwS6l4PERzw=s64",
      "userId": "13943995535295474863"
     },
     "user_tz": -480
    },
    "id": "Dgt_VJ2RJrC6"
   },
   "outputs": [],
   "source": [
    "class Lung_Train_Dataset(Dataset):\n",
    "    \n",
    "    def __init__(self, normalizer=None):\n",
    "        \"\"\"\n",
    "        Constructor for generic Dataset class - simply assembles\n",
    "        the important parameters in attributes.\n",
    "        \"\"\"\n",
    "        self.normalizer = normalizer\n",
    "        \n",
    "        # All images are of size 150 x 150\n",
    "        self.img_size = (150, 150)\n",
    "        \n",
    "        # Only two classes will be considered here (normal and infected)\n",
    "        self.classes = {0: 'normal', 1: 'infected_covid', 2: 'infected_non_covid'}\n",
    "        \n",
    "        # The dataset consists only of training images\n",
    "        self.groups = 'train'\n",
    "        \n",
    "        # Number of images in each part of the dataset\n",
    "        self.dataset_numbers = {'train_normal': 1341,\\\n",
    "                                'train_infected_covid': 1345,\\\n",
    "                                'train_infected_non_covid':2530}\n",
    "        \n",
    "        # Path to images for different parts of the dataset\n",
    "        self.dataset_paths = {'train_normal': './dataset/train/normal',\\\n",
    "                              'train_infected_covid': './dataset/train/infected/covid',\\\n",
    "                              'train_infected_non_covid':'./dataset/train/infected/non-covid'}\n",
    "        \n",
    "        \n",
    "    def describe(self):\n",
    "        \"\"\"\n",
    "        Descriptor function.\n",
    "        Will print details about the dataset when called.\n",
    "        \"\"\"\n",
    "        \n",
    "        # Generate description\n",
    "        msg = \"This is the training dataset of the Lung Dataset\"\n",
    "        msg += \" used for the Small Project Demo in the 50.039 Deep Learning class\"\n",
    "        msg += \" in Feb-March 2021. \\n\"\n",
    "        msg += \"It contains a total of {} images, \".format(sum(self.dataset_numbers.values()))\n",
    "        msg += \"of size {} by {}.\\n\".format(self.img_size[0], self.img_size[1])\n",
    "        msg += \"The images are stored in the following locations \"\n",
    "        msg += \"and each one contains the following number of images:\\n\"\n",
    "        for key, val in self.dataset_paths.items():\n",
    "            msg += \" - {}, in folder {}: {} images.\\n\".format(key, val, self.dataset_numbers[key])\n",
    "        print(msg)\n",
    "        \n",
    "    \n",
    "    def open_img(self, group_val, class_val, index_val):\n",
    "        \"\"\"\n",
    "        Opens image with specified parameters.\n",
    "        \n",
    "        Parameters:\n",
    "        - group_val should take values in 'train', 'test' or 'val'.\n",
    "        - class_val variable should be set to 'normal' or 'infected'.\n",
    "        - index_val should be an integer with values between 0 and the maximal number of images in dataset.\n",
    "        \n",
    "        Returns loaded image as a normalized Numpy array.\n",
    "        \"\"\"\n",
    "        \n",
    "        # Asserts checking for consistency in passed parameters\n",
    "        err_msg = \"Error - group_val variable should be set to 'train', 'test' or 'val'.\"\n",
    "        assert group_val in self.groups, err_msg\n",
    "        \n",
    "        err_msg = \"Error - class_val variable should be set to 'normal' or 'infected_covid' or 'infected_non_covid'.\"\n",
    "        assert class_val in self.classes.values(), err_msg\n",
    "        \n",
    "        max_val = self.dataset_numbers['{}_{}'.format(group_val, class_val)]\n",
    "        err_msg = \"Error - index_val variable should be an integer between 0 and the maximal number of images.\"\n",
    "        err_msg += \"\\n(In {}/{}, you have {} images.)\".format(group_val, class_val, max_val)\n",
    "        assert isinstance(index_val, int), err_msg\n",
    "        assert index_val >= 0 and index_val <= max_val, err_msg\n",
    "        \n",
    "        # Open file as before\n",
    "        path_to_file = '{}/{}.jpg'.format(self.dataset_paths['{}_{}'.format(group_val, class_val)], index_val)\n",
    "        with open(path_to_file, 'rb') as f:\n",
    "            im = np.asarray(Image.open(f))/255\n",
    "        \n",
    "        return im\n",
    "    \n",
    "    \n",
    "    def show_img(self, group_val, class_val, index_val):\n",
    "        \"\"\"\n",
    "        Opens, then displays image with specified parameters.\n",
    "        \n",
    "        Parameters:\n",
    "        - group_val should take values in 'train', 'test' or 'val'.\n",
    "        - class_val variable should be set to 'normal' or 'infected'.\n",
    "        - index_val should be an integer with values between 0 and the maximal number of images in dataset.\n",
    "        \"\"\"\n",
    "        \n",
    "        # Open image\n",
    "        im = self.open_img(group_val, class_val, index_val)\n",
    "        \n",
    "        # Display\n",
    "        plt.imshow(im)\n",
    "        \n",
    "        \n",
    "    def __len__(self):\n",
    "        \"\"\"\n",
    "        Length special method, returns the number of images in dataset.\n",
    "        \"\"\"\n",
    "        \n",
    "        # Length function\n",
    "        return sum(self.dataset_numbers.values())\n",
    "    \n",
    "    \n",
    "    def __getitem__(self, index):\n",
    "        \"\"\"\n",
    "        Getitem special method.\n",
    "        \n",
    "        Expects an integer value index, between 0 and len(self) - 1.\n",
    "        \n",
    "        Returns the image and its label as a one hot vector, both\n",
    "        in torch tensor format in dataset.\n",
    "        \"\"\"\n",
    "        \n",
    "        # Get item special method\n",
    "        first_val = int(list(self.dataset_numbers.values())[0])\n",
    "        second_val = int(list(self.dataset_numbers.values())[1])\n",
    "        if index < first_val:\n",
    "            class_val = 'normal'\n",
    "            label = torch.Tensor([1, 0, 0])\n",
    "        elif index < first_val + second_val:\n",
    "            class_val = 'infected_covid'\n",
    "            index = index - first_val\n",
    "            label = torch.Tensor([0, 1, 0])\n",
    "        else:\n",
    "            class_val = \"infected_non_covid\"\n",
    "            index = index - first_val - second_val\n",
    "            label = torch.Tensor([0, 0, 1])\n",
    "        im = self.open_img(self.groups, class_val, index)\n",
    "        im = transforms.functional.to_tensor(np.array(im)).float()\n",
    "        if self.normalizer:\n",
    "            im = self.normalizer(im)\n",
    "        return im, label"
   ]
  },
  {
   "cell_type": "code",
   "execution_count": 6,
   "metadata": {
    "executionInfo": {
     "elapsed": 1097,
     "status": "ok",
     "timestamp": 1616058018648,
     "user": {
      "displayName": "15Y6C44 ONG WEI SONG",
      "photoUrl": "https://lh3.googleusercontent.com/a-/AOh14GhkHTfUdo7h8Mc3vTxNKmIS9CiB24shvF2svaAjLiG8g378ffDzoJHjXI9zsC75aDM_f-prF0I4YjZxsyetLMJ0f3YgMKt0xn7n2vx5U6spUW-rGkTAUZjwLvrtKS4INlUd7kqWpTrRLPs06ilqpY5nkQ6SfComjN61frbKoQntVSp9RKQVsx29gezbM_k27UV1UauerA_Hlj-yPwjGOb1VVl2StcEQtfJXfwB4a4OktzvpPHIP8_IDaPTZJtzrI0kHbkhtWOz2yFqLOhQ5W88uuf9OrVuQjKxR4dSAVpFH-RvyYa0nG73W0eAGQirj7Wjg6BHhVB0KJA7NoTb17uN3P5xCyQTi-cS5T-0YDYO46rNNY6IZGih_gIdrCxuqWx4VOIO2X_GikYCM-NBPnXQNWaeJ5eSwzmYTRpG1GctsahOhjnQmoSSQAJjBJ8bigSY4YDnmJ661VkGvvHORU221837tvoMHcj3gWw86zBqECgADcsZYuFmO4G1BRP7COWRTwvUuMKFWVKQ4jNg-PA0qzFSg1UPZEGoqynGSEk1POWcIpR8tyrdsOcRqETPhhQhG5F6rJi8Hlo4o9qGBNNQPRAB8EP_hgxStxBZ8rY9XhIwRFsS9bh2nYSGPiaxDLqXLt2OW2RrigDahzLk1qAC1nBSciJgWQqtXvoeo5NYW051CotPLFgoPEhoe_58LIHcdUP1myMTiPfIa1ekafPg4c8rgnge_ysHna_LuLicfLGvX-0CPlz_6ChsEwS6l4PERzw=s64",
      "userId": "13943995535295474863"
     },
     "user_tz": -480
    },
    "id": "x-btPLJNKKOa"
   },
   "outputs": [],
   "source": [
    "class Lung_Val_Dataset(Dataset):\n",
    "    \n",
    "    def __init__(self, normalizer=None):\n",
    "        \"\"\"\n",
    "        Constructor for generic Dataset class - simply assembles\n",
    "        the important parameters in attributes.\n",
    "        \"\"\"\n",
    "        self.normalizer = normalizer\n",
    "        \n",
    "        # All images are of size 150 x 150\n",
    "        self.img_size = (150, 150)\n",
    "        \n",
    "        # Only two classes will be considered here (normal and infected)\n",
    "        self.classes = {0: 'normal', 1: 'infected covid', 2: 'infected non-covid'}\n",
    "        \n",
    "        # The dataset consists only of training images\n",
    "        self.groups = 'val'\n",
    "        \n",
    "        # Number of images in each part of the dataset\n",
    "        self.dataset_numbers = {'val_normal': 8,\\\n",
    "                                'val_infected_covid': 8,\\\n",
    "                                'val_infected_non_covid':8}\n",
    "        \n",
    "        # Path to images for different parts of the dataset\n",
    "        self.dataset_paths = {'val_normal': './dataset/val/normal',\\\n",
    "                              'val_infected_covid': './dataset/val/infected/covid',\\\n",
    "                              'val_infected_non_covid':'./dataset/val/infected/non-covid'}\n",
    "        \n",
    "        \n",
    "    def describe(self):\n",
    "        \"\"\"\n",
    "        Descriptor function.\n",
    "        Will print details about the dataset when called.\n",
    "        \"\"\"\n",
    "        \n",
    "        # Generate description\n",
    "        msg = \"This is the training dataset of the Lung Dataset\"\n",
    "        msg += \" used for the Small Project Demo in the 50.039 Deep Learning class\"\n",
    "        msg += \" in Feb-March 2021. \\n\"\n",
    "        msg += \"It contains a total of {} images, \".format(sum(self.dataset_numbers.values()))\n",
    "        msg += \"of size {} by {}.\\n\".format(self.img_size[0], self.img_size[1])\n",
    "        msg += \"The images are stored in the following locations \"\n",
    "        msg += \"and each one contains the following number of images:\\n\"\n",
    "        for key, val in self.dataset_paths.items():\n",
    "            msg += \" - {}, in folder {}: {} images.\\n\".format(key, val, self.dataset_numbers[key])\n",
    "        print(msg)\n",
    "        \n",
    "    \n",
    "    def open_img(self, group_val, class_val, index_val):\n",
    "        \"\"\"\n",
    "        Opens image with specified parameters.\n",
    "        \n",
    "        Parameters:\n",
    "        - group_val should take values in 'train', 'test' or 'val'.\n",
    "        - class_val variable should be set to 'normal' or 'infected'.\n",
    "        - index_val should be an integer with values between 0 and the maximal number of images in dataset.\n",
    "        \n",
    "        Returns loaded image as a normalized Numpy array.\n",
    "        \"\"\"\n",
    "        \n",
    "        # Asserts checking for consistency in passed parameters\n",
    "        err_msg = \"Error - group_val variable should be set to 'train', 'test' or 'val'.\"\n",
    "        assert group_val in self.groups, err_msg\n",
    "        \n",
    "        err_msg = \"Error - class_val variable should be set to 'normal' or 'infected'.\"\n",
    "        assert class_val in self.classes.values(), err_msg\n",
    "        \n",
    "        max_val = self.dataset_numbers['{}_{}'.format(group_val, class_val)]\n",
    "        err_msg = \"Error - index_val variable should be an integer between 0 and the maximal number of images.\"\n",
    "        err_msg += \"\\n(In {}/{}, you have {} images.)\".format(group_val, class_val, max_val)\n",
    "        assert isinstance(index_val, int), err_msg\n",
    "        assert index_val >= 0 and index_val <= max_val, err_msg\n",
    "        \n",
    "        # Open file as before\n",
    "        path_to_file = '{}/{}.jpg'.format(self.dataset_paths['{}_{}'.format(group_val, class_val)], index_val)\n",
    "        with open(path_to_file, 'rb') as f:\n",
    "            im = np.asarray(Image.open(f))/255\n",
    "        \n",
    "        return im\n",
    "    \n",
    "    \n",
    "    def show_img(self, group_val, class_val, index_val):\n",
    "        \"\"\"\n",
    "        Opens, then displays image with specified parameters.\n",
    "        \n",
    "        Parameters:\n",
    "        - group_val should take values in 'train', 'test' or 'val'.\n",
    "        - class_val variable should be set to 'normal' or 'infected'.\n",
    "        - index_val should be an integer with values between 0 and the maximal number of images in dataset.\n",
    "        \"\"\"\n",
    "        \n",
    "        # Open image\n",
    "        im = self.open_img(group_val, class_val, index_val)\n",
    "        \n",
    "        # Display\n",
    "        plt.imshow(im)\n",
    "        \n",
    "        \n",
    "    def __len__(self):\n",
    "        \"\"\"\n",
    "        Length special method, returns the number of images in dataset.\n",
    "        \"\"\"\n",
    "        \n",
    "        # Length function\n",
    "        return sum(self.dataset_numbers.values())\n",
    "    \n",
    "    \n",
    "    def __getitem__(self, index):\n",
    "        \"\"\"\n",
    "        Getitem special method.\n",
    "        \n",
    "        Expects an integer value index, between 0 and len(self) - 1.\n",
    "        \n",
    "        Returns the image and its label as a one hot vector, both\n",
    "        in torch tensor format in dataset.\n",
    "        \"\"\"\n",
    "        \n",
    "        # Get item special method\n",
    "        first_val = int(list(self.dataset_numbers.values())[0])\n",
    "        if index < first_val:\n",
    "            class_val = 'normal'\n",
    "            label = torch.Tensor([1, 0])\n",
    "        else:\n",
    "            class_val = 'infected'\n",
    "            index = index - first_val\n",
    "            label = torch.Tensor([0, 1])\n",
    "        im = self.open_img(self.groups, class_val, index)\n",
    "        im = transforms.functional.to_tensor(np.array(im)).float()\n",
    "        if self.normalizer:\n",
    "            im = self.normalizer(im)\n",
    "        return im, label"
   ]
  },
  {
   "cell_type": "code",
   "execution_count": 7,
   "metadata": {
    "executionInfo": {
     "elapsed": 1957,
     "status": "ok",
     "timestamp": 1616058019957,
     "user": {
      "displayName": "15Y6C44 ONG WEI SONG",
      "photoUrl": "https://lh3.googleusercontent.com/a-/AOh14GhkHTfUdo7h8Mc3vTxNKmIS9CiB24shvF2svaAjLiG8g378ffDzoJHjXI9zsC75aDM_f-prF0I4YjZxsyetLMJ0f3YgMKt0xn7n2vx5U6spUW-rGkTAUZjwLvrtKS4INlUd7kqWpTrRLPs06ilqpY5nkQ6SfComjN61frbKoQntVSp9RKQVsx29gezbM_k27UV1UauerA_Hlj-yPwjGOb1VVl2StcEQtfJXfwB4a4OktzvpPHIP8_IDaPTZJtzrI0kHbkhtWOz2yFqLOhQ5W88uuf9OrVuQjKxR4dSAVpFH-RvyYa0nG73W0eAGQirj7Wjg6BHhVB0KJA7NoTb17uN3P5xCyQTi-cS5T-0YDYO46rNNY6IZGih_gIdrCxuqWx4VOIO2X_GikYCM-NBPnXQNWaeJ5eSwzmYTRpG1GctsahOhjnQmoSSQAJjBJ8bigSY4YDnmJ661VkGvvHORU221837tvoMHcj3gWw86zBqECgADcsZYuFmO4G1BRP7COWRTwvUuMKFWVKQ4jNg-PA0qzFSg1UPZEGoqynGSEk1POWcIpR8tyrdsOcRqETPhhQhG5F6rJi8Hlo4o9qGBNNQPRAB8EP_hgxStxBZ8rY9XhIwRFsS9bh2nYSGPiaxDLqXLt2OW2RrigDahzLk1qAC1nBSciJgWQqtXvoeo5NYW051CotPLFgoPEhoe_58LIHcdUP1myMTiPfIa1ekafPg4c8rgnge_ysHna_LuLicfLGvX-0CPlz_6ChsEwS6l4PERzw=s64",
      "userId": "13943995535295474863"
     },
     "user_tz": -480
    },
    "id": "li86DK2yKtWc"
   },
   "outputs": [],
   "source": [
    "class Lung_Test_Dataset(Dataset):\n",
    "    \n",
    "    def __init__(self, normalizer=None):\n",
    "        \"\"\"\n",
    "        Constructor for generic Dataset class - simply assembles\n",
    "        the important parameters in attributes.\n",
    "        \"\"\"\n",
    "        self.normalizer = normalizer\n",
    "        \n",
    "        # All images are of size 150 x 150\n",
    "        self.img_size = (150, 150)\n",
    "        \n",
    "        # Only two classes will be considered here (normal and infected)\n",
    "        self.classes = {0: 'normal', 1: 'infected covid', 2: 'infected non-covid'}\n",
    "        \n",
    "        # The dataset consists only of training images\n",
    "        self.groups = 'test'\n",
    "        \n",
    "        # Number of images in each part of the dataset\n",
    "        self.dataset_numbers = { 'test_normal': 234,\\\n",
    "                                'test_infected_covid': 138,\\\n",
    "                                'test_infected_non_covid':242}\n",
    "        \n",
    "        # Path to images for different parts of the dataset\n",
    "        self.dataset_paths = { 'test_normal': './dataset/test/normal',\\\n",
    "                              'test_infected_covid': './dataset/test/infected/covid',\\\n",
    "                              'test_infected_non_covid':'./dataset/test/infected/non-covid'}\n",
    "        \n",
    "        \n",
    "    def describe(self):\n",
    "        \"\"\"\n",
    "        Descriptor function.\n",
    "        Will print details about the dataset when called.\n",
    "        \"\"\"\n",
    "        \n",
    "        # Generate description\n",
    "        msg = \"This is the training dataset of the Lung Dataset\"\n",
    "        msg += \" used for the Small Project Demo in the 50.039 Deep Learning class\"\n",
    "        msg += \" in Feb-March 2021. \\n\"\n",
    "        msg += \"It contains a total of {} images, \".format(sum(self.dataset_numbers.values()))\n",
    "        msg += \"of size {} by {}.\\n\".format(self.img_size[0], self.img_size[1])\n",
    "        msg += \"The images are stored in the following locations \"\n",
    "        msg += \"and each one contains the following number of images:\\n\"\n",
    "        for key, val in self.dataset_paths.items():\n",
    "            msg += \" - {}, in folder {}: {} images.\\n\".format(key, val, self.dataset_numbers[key])\n",
    "        print(msg)\n",
    "        \n",
    "    \n",
    "    def open_img(self, group_val, class_val, index_val):\n",
    "        \"\"\"\n",
    "        Opens image with specified parameters.\n",
    "        \n",
    "        Parameters:\n",
    "        - group_val should take values in 'train', 'test' or 'val'.\n",
    "        - class_val variable should be set to 'normal' or 'infected'.\n",
    "        - index_val should be an integer with values between 0 and the maximal number of images in dataset.\n",
    "        \n",
    "        Returns loaded image as a normalized Numpy array.\n",
    "        \"\"\"\n",
    "        \n",
    "        # Asserts checking for consistency in passed parameters\n",
    "        err_msg = \"Error - group_val variable should be set to 'train', 'test' or 'val'.\"\n",
    "        assert group_val in self.groups, err_msg\n",
    "        \n",
    "        err_msg = \"Error - class_val variable should be set to 'normal' or 'infected'.\"\n",
    "        assert class_val in self.classes.values(), err_msg\n",
    "        \n",
    "        max_val = self.dataset_numbers['{}_{}'.format(group_val, class_val)]\n",
    "        err_msg = \"Error - index_val variable should be an integer between 0 and the maximal number of images.\"\n",
    "        err_msg += \"\\n(In {}/{}, you have {} images.)\".format(group_val, class_val, max_val)\n",
    "        assert isinstance(index_val, int), err_msg\n",
    "        assert index_val >= 0 and index_val <= max_val, err_msg\n",
    "        \n",
    "        # Open file as before\n",
    "        path_to_file = '{}/{}.jpg'.format(self.dataset_paths['{}_{}'.format(group_val, class_val)], index_val)\n",
    "        with open(path_to_file, 'rb') as f:\n",
    "            im = np.asarray(Image.open(f))/255\n",
    "        \n",
    "        return im\n",
    "    \n",
    "    \n",
    "    def show_img(self, group_val, class_val, index_val):\n",
    "        \"\"\"\n",
    "        Opens, then displays image with specified parameters.\n",
    "        \n",
    "        Parameters:\n",
    "        - group_val should take values in 'train', 'test' or 'val'.\n",
    "        - class_val variable should be set to 'normal' or 'infected'.\n",
    "        - index_val should be an integer with values between 0 and the maximal number of images in dataset.\n",
    "        \"\"\"\n",
    "        \n",
    "        # Open image\n",
    "        im = self.open_img(group_val, class_val, index_val)\n",
    "        \n",
    "        # Display\n",
    "        plt.imshow(im)\n",
    "        \n",
    "        \n",
    "    def __len__(self):\n",
    "        \"\"\"\n",
    "        Length special method, returns the number of images in dataset.\n",
    "        \"\"\"\n",
    "        \n",
    "        # Length function\n",
    "        return sum(self.dataset_numbers.values())\n",
    "    \n",
    "    \n",
    "    def __getitem__(self, index):\n",
    "        \"\"\"\n",
    "        Getitem special method.\n",
    "        \n",
    "        Expects an integer value index, between 0 and len(self) - 1.\n",
    "        \n",
    "        Returns the image and its label as a one hot vector, both\n",
    "        in torch tensor format in dataset.\n",
    "        \"\"\"\n",
    "        \n",
    "        # Get item special method\n",
    "        first_val = int(list(self.dataset_numbers.values())[0])\n",
    "        if index < first_val:\n",
    "            class_val = 'normal'\n",
    "            label = torch.Tensor([1, 0])\n",
    "        else:\n",
    "            class_val = 'infected'\n",
    "            index = index - first_val\n",
    "            label = torch.Tensor([0, 1])\n",
    "        im = self.open_img(self.groups, class_val, index)\n",
    "        im = transforms.functional.to_tensor(np.array(im)).float()\n",
    "        if self.normalizer:\n",
    "            im = self.normalizer(im)\n",
    "        return im, label"
   ]
  },
  {
   "cell_type": "code",
   "execution_count": 8,
   "metadata": {
    "colab": {
     "base_uri": "https://localhost:8080/"
    },
    "executionInfo": {
     "elapsed": 1349,
     "status": "ok",
     "timestamp": 1616058019957,
     "user": {
      "displayName": "15Y6C44 ONG WEI SONG",
      "photoUrl": "https://lh3.googleusercontent.com/a-/AOh14GhkHTfUdo7h8Mc3vTxNKmIS9CiB24shvF2svaAjLiG8g378ffDzoJHjXI9zsC75aDM_f-prF0I4YjZxsyetLMJ0f3YgMKt0xn7n2vx5U6spUW-rGkTAUZjwLvrtKS4INlUd7kqWpTrRLPs06ilqpY5nkQ6SfComjN61frbKoQntVSp9RKQVsx29gezbM_k27UV1UauerA_Hlj-yPwjGOb1VVl2StcEQtfJXfwB4a4OktzvpPHIP8_IDaPTZJtzrI0kHbkhtWOz2yFqLOhQ5W88uuf9OrVuQjKxR4dSAVpFH-RvyYa0nG73W0eAGQirj7Wjg6BHhVB0KJA7NoTb17uN3P5xCyQTi-cS5T-0YDYO46rNNY6IZGih_gIdrCxuqWx4VOIO2X_GikYCM-NBPnXQNWaeJ5eSwzmYTRpG1GctsahOhjnQmoSSQAJjBJ8bigSY4YDnmJ661VkGvvHORU221837tvoMHcj3gWw86zBqECgADcsZYuFmO4G1BRP7COWRTwvUuMKFWVKQ4jNg-PA0qzFSg1UPZEGoqynGSEk1POWcIpR8tyrdsOcRqETPhhQhG5F6rJi8Hlo4o9qGBNNQPRAB8EP_hgxStxBZ8rY9XhIwRFsS9bh2nYSGPiaxDLqXLt2OW2RrigDahzLk1qAC1nBSciJgWQqtXvoeo5NYW051CotPLFgoPEhoe_58LIHcdUP1myMTiPfIa1ekafPg4c8rgnge_ysHna_LuLicfLGvX-0CPlz_6ChsEwS6l4PERzw=s64",
      "userId": "13943995535295474863"
     },
     "user_tz": -480
    },
    "id": "qFfiKufxBYse",
    "outputId": "5b920f32-9db0-4529-85fc-6491e5661cd6"
   },
   "outputs": [
    {
     "name": "stdout",
     "output_type": "stream",
     "text": [
      "This is the training dataset of the Lung Dataset used for the Small Project Demo in the 50.039 Deep Learning class in Feb-March 2021. \n",
      "It contains a total of 5216 images, of size 150 by 150.\n",
      "The images are stored in the following locations and each one contains the following number of images:\n",
      " - train_normal, in folder ./dataset/train/normal: 1341 images.\n",
      " - train_infected_covid, in folder ./dataset/train/infected/covid: 1345 images.\n",
      " - train_infected_non_covid, in folder ./dataset/train/infected/non-covid: 2530 images.\n",
      "\n",
      "5216\n",
      "\n",
      "This is the training dataset of the Lung Dataset used for the Small Project Demo in the 50.039 Deep Learning class in Feb-March 2021. \n",
      "It contains a total of 24 images, of size 150 by 150.\n",
      "The images are stored in the following locations and each one contains the following number of images:\n",
      " - val_normal, in folder ./dataset/val/normal: 8 images.\n",
      " - val_infected_covid, in folder ./dataset/val/infected/covid: 8 images.\n",
      " - val_infected_non_covid, in folder ./dataset/val/infected/non-covid: 8 images.\n",
      "\n",
      "24\n",
      "This is the training dataset of the Lung Dataset used for the Small Project Demo in the 50.039 Deep Learning class in Feb-March 2021. \n",
      "It contains a total of 614 images, of size 150 by 150.\n",
      "The images are stored in the following locations and each one contains the following number of images:\n",
      " - test_normal, in folder ./dataset/test/normal: 234 images.\n",
      " - test_infected_covid, in folder ./dataset/test/infected/covid: 138 images.\n",
      " - test_infected_non_covid, in folder ./dataset/test/infected/non-covid: 242 images.\n",
      "\n",
      "614\n"
     ]
    }
   ],
   "source": [
    "ld_train = Lung_Train_Dataset()\n",
    "ld_train.describe()\n",
    "print(len(ld_train))\n",
    "print() \n",
    "ld_val = Lung_Val_Dataset()\n",
    "ld_val.describe()\n",
    "print(len(ld_val))\n",
    "ld_test = Lung_Test_Dataset() \n",
    "ld_test.describe() \n",
    "print(len(ld_test))"
   ]
  },
  {
   "cell_type": "code",
   "execution_count": 9,
   "metadata": {
    "colab": {
     "base_uri": "https://localhost:8080/",
     "height": 269
    },
    "executionInfo": {
     "elapsed": 2279,
     "status": "ok",
     "timestamp": 1616058021950,
     "user": {
      "displayName": "15Y6C44 ONG WEI SONG",
      "photoUrl": "https://lh3.googleusercontent.com/a-/AOh14GhkHTfUdo7h8Mc3vTxNKmIS9CiB24shvF2svaAjLiG8g378ffDzoJHjXI9zsC75aDM_f-prF0I4YjZxsyetLMJ0f3YgMKt0xn7n2vx5U6spUW-rGkTAUZjwLvrtKS4INlUd7kqWpTrRLPs06ilqpY5nkQ6SfComjN61frbKoQntVSp9RKQVsx29gezbM_k27UV1UauerA_Hlj-yPwjGOb1VVl2StcEQtfJXfwB4a4OktzvpPHIP8_IDaPTZJtzrI0kHbkhtWOz2yFqLOhQ5W88uuf9OrVuQjKxR4dSAVpFH-RvyYa0nG73W0eAGQirj7Wjg6BHhVB0KJA7NoTb17uN3P5xCyQTi-cS5T-0YDYO46rNNY6IZGih_gIdrCxuqWx4VOIO2X_GikYCM-NBPnXQNWaeJ5eSwzmYTRpG1GctsahOhjnQmoSSQAJjBJ8bigSY4YDnmJ661VkGvvHORU221837tvoMHcj3gWw86zBqECgADcsZYuFmO4G1BRP7COWRTwvUuMKFWVKQ4jNg-PA0qzFSg1UPZEGoqynGSEk1POWcIpR8tyrdsOcRqETPhhQhG5F6rJi8Hlo4o9qGBNNQPRAB8EP_hgxStxBZ8rY9XhIwRFsS9bh2nYSGPiaxDLqXLt2OW2RrigDahzLk1qAC1nBSciJgWQqtXvoeo5NYW051CotPLFgoPEhoe_58LIHcdUP1myMTiPfIa1ekafPg4c8rgnge_ysHna_LuLicfLGvX-0CPlz_6ChsEwS6l4PERzw=s64",
      "userId": "13943995535295474863"
     },
     "user_tz": -480
    },
    "id": "0uqjrn5EcRlx",
    "outputId": "f699b5d4-078c-44fa-e032-76ff9299c666"
   },
   "outputs": [
    {
     "data": {
      "image/png": "[encoded data removed]",
      "text/plain": [
       "<Figure size 432x288 with 1 Axes>"
      ]
     },
     "metadata": {
      "needs_background": "light"
     },
     "output_type": "display_data"
    }
   ],
   "source": [
    "ld_train.show_img('train','normal',1)"
   ]
  },
  {
   "cell_type": "markdown",
   "metadata": {},
   "source": [
    "## Defining Dataloaders"
   ]
  },
  {
   "cell_type": "code",
   "execution_count": 10,
   "metadata": {
    "executionInfo": {
     "elapsed": 1011,
     "status": "ok",
     "timestamp": 1616058861868,
     "user": {
      "displayName": "15Y6C44 ONG WEI SONG",
      "photoUrl": "https://lh3.googleusercontent.com/a-/AOh14GhkHTfUdo7h8Mc3vTxNKmIS9CiB24shvF2svaAjLiG8g378ffDzoJHjXI9zsC75aDM_f-prF0I4YjZxsyetLMJ0f3YgMKt0xn7n2vx5U6spUW-rGkTAUZjwLvrtKS4INlUd7kqWpTrRLPs06ilqpY5nkQ6SfComjN61frbKoQntVSp9RKQVsx29gezbM_k27UV1UauerA_Hlj-yPwjGOb1VVl2StcEQtfJXfwB4a4OktzvpPHIP8_IDaPTZJtzrI0kHbkhtWOz2yFqLOhQ5W88uuf9OrVuQjKxR4dSAVpFH-RvyYa0nG73W0eAGQirj7Wjg6BHhVB0KJA7NoTb17uN3P5xCyQTi-cS5T-0YDYO46rNNY6IZGih_gIdrCxuqWx4VOIO2X_GikYCM-NBPnXQNWaeJ5eSwzmYTRpG1GctsahOhjnQmoSSQAJjBJ8bigSY4YDnmJ661VkGvvHORU221837tvoMHcj3gWw86zBqECgADcsZYuFmO4G1BRP7COWRTwvUuMKFWVKQ4jNg-PA0qzFSg1UPZEGoqynGSEk1POWcIpR8tyrdsOcRqETPhhQhG5F6rJi8Hlo4o9qGBNNQPRAB8EP_hgxStxBZ8rY9XhIwRFsS9bh2nYSGPiaxDLqXLt2OW2RrigDahzLk1qAC1nBSciJgWQqtXvoeo5NYW051CotPLFgoPEhoe_58LIHcdUP1myMTiPfIa1ekafPg4c8rgnge_ysHna_LuLicfLGvX-0CPlz_6ChsEwS6l4PERzw=s64",
      "userId": "13943995535295474863"
     },
     "user_tz": -480
    },
    "id": "w2TqFPqFBimy"
   },
   "outputs": [],
   "source": [
    "batch_size = 4\n",
    "train_loader = DataLoader(ld_train, batch_size = batch_size, shuffle = True)\n",
    "test_loader = DataLoader(ld_test, batch_size = batch_size, shuffle = True)\n",
    "val_loader = DataLoader(ld_val, batch_size = batch_size, shuffle = True)"
   ]
  },
  {
   "cell_type": "markdown",
   "metadata": {
    "id": "LMCVrYGMBX_y"
   },
   "source": [
    "## Input Normalization\n",
    "\n",
    "(you are expected to discuss the typical data processing operations to be applied to your  images. Typically, you have seen in the Demo Notebook, that our images needed some  normalization was one, but why did we need it anyway? Are there other pre-processing  operations that are needed for our images?)\n",
    "\n",
    "\n",
    "During training, a neural network would expect input values of: `[0, 1]`. This is the reason we had to perform the pixel normalization from possible values of `[0, 255]` to `[0, 1]` by dividing by `255`. In addition, Convergence is usually faster if the average of each input variable over the training set is close to **0**. This [paper](http://yann.lecun.com/exdb/publis/pdf/lecun-98b.pdf) yields the inspiration of doing so, as it greatly improves training speed. Thus, we are going to conduct **normalization** as a pre-processing process of the images in the dataset.\n"
   ]
  },
  {
   "cell_type": "markdown",
   "metadata": {},
   "source": [
    "Here, we have defined a function `getMeanStd` that computes the mean and standard deviation of all the pixel values only for our **training images**. We do so, as we are not supposed to prepare our model for either `validation` or `test` images."
   ]
  },
  {
   "cell_type": "code",
   "execution_count": 27,
   "metadata": {
    "executionInfo": {
     "elapsed": 1359,
     "status": "ok",
     "timestamp": 1616058678209,
     "user": {
      "displayName": "15Y6C44 ONG WEI SONG",
      "photoUrl": "https://lh3.googleusercontent.com/a-/AOh14GhkHTfUdo7h8Mc3vTxNKmIS9CiB24shvF2svaAjLiG8g378ffDzoJHjXI9zsC75aDM_f-prF0I4YjZxsyetLMJ0f3YgMKt0xn7n2vx5U6spUW-rGkTAUZjwLvrtKS4INlUd7kqWpTrRLPs06ilqpY5nkQ6SfComjN61frbKoQntVSp9RKQVsx29gezbM_k27UV1UauerA_Hlj-yPwjGOb1VVl2StcEQtfJXfwB4a4OktzvpPHIP8_IDaPTZJtzrI0kHbkhtWOz2yFqLOhQ5W88uuf9OrVuQjKxR4dSAVpFH-RvyYa0nG73W0eAGQirj7Wjg6BHhVB0KJA7NoTb17uN3P5xCyQTi-cS5T-0YDYO46rNNY6IZGih_gIdrCxuqWx4VOIO2X_GikYCM-NBPnXQNWaeJ5eSwzmYTRpG1GctsahOhjnQmoSSQAJjBJ8bigSY4YDnmJ661VkGvvHORU221837tvoMHcj3gWw86zBqECgADcsZYuFmO4G1BRP7COWRTwvUuMKFWVKQ4jNg-PA0qzFSg1UPZEGoqynGSEk1POWcIpR8tyrdsOcRqETPhhQhG5F6rJi8Hlo4o9qGBNNQPRAB8EP_hgxStxBZ8rY9XhIwRFsS9bh2nYSGPiaxDLqXLt2OW2RrigDahzLk1qAC1nBSciJgWQqtXvoeo5NYW051CotPLFgoPEhoe_58LIHcdUP1myMTiPfIa1ekafPg4c8rgnge_ysHna_LuLicfLGvX-0CPlz_6ChsEwS6l4PERzw=s64",
      "userId": "13943995535295474863"
     },
     "user_tz": -480
    },
    "id": "mSb1ixF-kQjf"
   },
   "outputs": [],
   "source": [
    "def getMeanStd(dataset, loader, loaderName, image_size=(150, 150)):\n",
    "    totalSum = 0\n",
    "    numPixels = len(dataset) * image_size[0] * image_size[1]\n",
    "    print (\"Computing Mean: \")\n",
    "    for batch in tqdm(loader):\n",
    "        totalSum += batch[0].sum()\n",
    "        mean = totalSum / numPixels\n",
    "    sumSquaredError = 0\n",
    "    print (\"Computing Std: \")\n",
    "    for batch in tqdm(loader):\n",
    "        sumSquaredError += ((batch[0] - mean).pow(2)).sum()\n",
    "    std = torch.sqrt(sumSquaredError/numPixels)\n",
    "    print (\"Loader: {}. Mean: {}, Std: {}\".format(loaderName, mean, std))\n",
    "    return mean, std"
   ]
  },
  {
   "cell_type": "code",
   "execution_count": 28,
   "metadata": {
    "colab": {
     "base_uri": "https://localhost:8080/",
     "height": 49,
     "referenced_widgets": [
      "a7a55caf936b4ec5b4c9a8bbde6542f9",
      "4d0324c52d6c48c49e407b790fba7c62",
      "9de7845d68f144f786ca6666db52f907",
      "bbfd8e4b6731419b8db51c6b0d5d9724",
      "fe0a8a36832f45ff9eb34b9943822a31",
      "5858380572e04173a306b484cfc92244",
      "aed97cab2bb647c58e0080aedca41f44",
      "bbb62e88372c456bbb92945a17d03ca3"
     ]
    },
    "id": "biCodytylLtI",
    "outputId": "fe54fdac-37e0-4491-a74b-25ebf8fb847f"
   },
   "outputs": [
    {
     "name": "stdout",
     "output_type": "stream",
     "text": [
      "Computing Mean: \n"
     ]
    },
    {
     "data": {
      "application/vnd.jupyter.widget-view+json": {
       "model_id": "fa82f498e2094f47b0157d68c702abaa",
       "version_major": 2,
       "version_minor": 0
      },
      "text/plain": [
       "  0%|          | 0/1304 [00:00<?, ?it/s]"
      ]
     },
     "metadata": {},
     "output_type": "display_data"
    },
    {
     "name": "stdout",
     "output_type": "stream",
     "text": [
      "Computing Std: \n"
     ]
    },
    {
     "data": {
      "application/vnd.jupyter.widget-view+json": {
       "model_id": "c4433909cf2d4e5c99362edeaf500df7",
       "version_major": 2,
       "version_minor": 0
      },
      "text/plain": [
       "  0%|          | 0/1304 [00:00<?, ?it/s]"
      ]
     },
     "metadata": {},
     "output_type": "display_data"
    },
    {
     "name": "stdout",
     "output_type": "stream",
     "text": [
      "Loader: train_loader. Mean: 0.4824070930480957, Std: 0.2363118976354599\n"
     ]
    }
   ],
   "source": [
    "trainMean, trainStd = getMeanStd(ld_train, train_loader, \"train_loader\")"
   ]
  },
  {
   "cell_type": "markdown",
   "metadata": {},
   "source": [
    "Since in the later stages, we have to do the same `pre-processing` process for loading in either `validation` or `test` images, we save the transform in an easy to call variable: `normalize_transform`. We would use this variable as an input to our `custom dataset classes` in order to introduce it to the `pre-processing` pipeline process."
   ]
  },
  {
   "cell_type": "code",
   "execution_count": 29,
   "metadata": {},
   "outputs": [],
   "source": [
    "normalize_transform = transforms.Normalize(trainMean, trainStd)"
   ]
  },
  {
   "cell_type": "markdown",
   "metadata": {},
   "source": [
    "After computing the `mean` and `standard deviation` of the **training images**, we can go ahead and redefine our `custom dataset classes`"
   ]
  },
  {
   "cell_type": "code",
   "execution_count": 30,
   "metadata": {},
   "outputs": [],
   "source": [
    "ld_train_normalized = Lung_Train_Dataset(normalize_transform)\n",
    "ld_val_normalized = Lung_Val_Dataset(normalize_transform)\n",
    "ld_test_normalized = Lung_Test_Dataset(normalize_transform)"
   ]
  },
  {
   "cell_type": "markdown",
   "metadata": {},
   "source": [
    "Next, we can also define our new `normalized dataloaders` as well."
   ]
  },
  {
   "cell_type": "code",
   "execution_count": 31,
   "metadata": {},
   "outputs": [],
   "source": [
    "train_loader_normalized = DataLoader(ld_train_normalized, batch_size = batch_size, shuffle = True)\n",
    "test_loader_normalized = DataLoader(ld_test_normalized, batch_size = batch_size, shuffle = True)\n",
    "val_loader_normalized = DataLoader(ld_val_normalized, batch_size = batch_size, shuffle = True)"
   ]
  },
  {
   "cell_type": "markdown",
   "metadata": {},
   "source": [
    "Finally, just as a test, we should expect to see the new `mean` and `standard deviation` of our normalized loaders to be `0` and `1` respectively."
   ]
  },
  {
   "cell_type": "code",
   "execution_count": 34,
   "metadata": {},
   "outputs": [
    {
     "name": "stdout",
     "output_type": "stream",
     "text": [
      "Computing Mean: \n"
     ]
    },
    {
     "data": {
      "application/vnd.jupyter.widget-view+json": {
       "model_id": "31d0f88b2e7f47dc96042fe717ac96df",
       "version_major": 2,
       "version_minor": 0
      },
      "text/plain": [
       "  0%|          | 0/1304 [00:00<?, ?it/s]"
      ]
     },
     "metadata": {},
     "output_type": "display_data"
    },
    {
     "name": "stdout",
     "output_type": "stream",
     "text": [
      "Computing Std: \n"
     ]
    },
    {
     "data": {
      "application/vnd.jupyter.widget-view+json": {
       "model_id": "5ff1a79361994349b528e08bc1c1bee8",
       "version_major": 2,
       "version_minor": 0
      },
      "text/plain": [
       "  0%|          | 0/1304 [00:00<?, ?it/s]"
      ]
     },
     "metadata": {},
     "output_type": "display_data"
    },
    {
     "name": "stdout",
     "output_type": "stream",
     "text": [
      "Loader: train_loader_normalized. Mean: -4.785289320352604e-07, Std: 1.0000005960464478\n"
     ]
    }
   ],
   "source": [
    "train_normalized_mean, train_normalized_std = getMeanStd(ld_train_normalized, train_loader_normalized, \"train_loader_normalized\")"
   ]
  },
  {
   "cell_type": "markdown",
   "metadata": {},
   "source": [
    "As expected, we do have a **standard normal distribution**, in which we have `0 mean` and `standard deviation` of `1`."
   ]
  },
  {
   "cell_type": "markdown",
   "metadata": {
    "id": "KIJmtJGUNmjm"
   },
   "source": [
    "# Dataset Analysis"
   ]
  },
  {
   "cell_type": "markdown",
   "metadata": {
    "id": "ApIZ5rqENyky"
   },
   "source": [
    "## Distribution of Images Among Classes"
   ]
  },
  {
   "cell_type": "code",
   "execution_count": 37,
   "metadata": {
    "colab": {
     "base_uri": "https://localhost:8080/",
     "height": 585
    },
    "executionInfo": {
     "elapsed": 1438,
     "status": "ok",
     "timestamp": 1616058048406,
     "user": {
      "displayName": "15Y6C44 ONG WEI SONG",
      "photoUrl": "https://lh3.googleusercontent.com/a-/AOh14GhkHTfUdo7h8Mc3vTxNKmIS9CiB24shvF2svaAjLiG8g378ffDzoJHjXI9zsC75aDM_f-prF0I4YjZxsyetLMJ0f3YgMKt0xn7n2vx5U6spUW-rGkTAUZjwLvrtKS4INlUd7kqWpTrRLPs06ilqpY5nkQ6SfComjN61frbKoQntVSp9RKQVsx29gezbM_k27UV1UauerA_Hlj-yPwjGOb1VVl2StcEQtfJXfwB4a4OktzvpPHIP8_IDaPTZJtzrI0kHbkhtWOz2yFqLOhQ5W88uuf9OrVuQjKxR4dSAVpFH-RvyYa0nG73W0eAGQirj7Wjg6BHhVB0KJA7NoTb17uN3P5xCyQTi-cS5T-0YDYO46rNNY6IZGih_gIdrCxuqWx4VOIO2X_GikYCM-NBPnXQNWaeJ5eSwzmYTRpG1GctsahOhjnQmoSSQAJjBJ8bigSY4YDnmJ661VkGvvHORU221837tvoMHcj3gWw86zBqECgADcsZYuFmO4G1BRP7COWRTwvUuMKFWVKQ4jNg-PA0qzFSg1UPZEGoqynGSEk1POWcIpR8tyrdsOcRqETPhhQhG5F6rJi8Hlo4o9qGBNNQPRAB8EP_hgxStxBZ8rY9XhIwRFsS9bh2nYSGPiaxDLqXLt2OW2RrigDahzLk1qAC1nBSciJgWQqtXvoeo5NYW051CotPLFgoPEhoe_58LIHcdUP1myMTiPfIa1ekafPg4c8rgnge_ysHna_LuLicfLGvX-0CPlz_6ChsEwS6l4PERzw=s64",
      "userId": "13943995535295474863"
     },
     "user_tz": -480
    },
    "id": "DKW7Oh93Npj1",
    "outputId": "a4aac3f8-a4aa-488e-bbb9-ece6671a9f45"
   },
   "outputs": [
    {
     "data": {
      "image/png": "[encoded data removed]",
      "text/plain": [
       "<Figure size 864x576 with 1 Axes>"
      ]
     },
     "metadata": {
      "needs_background": "light"
     },
     "output_type": "display_data"
    }
   ],
   "source": [
    "labels = [\"Normal\", \"Infected Covid\", \"Infected Non Covid\"]\n",
    "distributions = [list(ld_train.dataset_numbers.values()), list(ld_val.dataset_numbers.values()), list(ld_test.dataset_numbers.values())]\n",
    "\n",
    "x = np.arange(len(labels))\n",
    "width = 0.25\n",
    "\n",
    "fig, ax = plt.subplots(figsize=(12,8))\n",
    "rects1 = ax.bar(x - 3*width/len(labels), distributions[0], width, label=\"Train\")\n",
    "rects2 = ax.bar(x, distributions[1], width, label=\"Val\")\n",
    "rects3 = ax.bar(x + 3*width/len(labels), distributions[2], width, label=\"Test\")\n",
    "\n",
    "ax.set_ylabel('Counts')\n",
    "ax.set_title('Distribution of image group type among image classes')\n",
    "ax.set_xticks(x)\n",
    "ax.set_xticklabels(labels)\n",
    "ax.legend()\n",
    "\n",
    "def autolabel(rects):\n",
    "    \"\"\"Attach a text label above each bar in *rects*, displaying its height.\"\"\"\n",
    "    for rect in rects:\n",
    "        height = rect.get_height()\n",
    "        ax.annotate('{}'.format(height),\n",
    "                    xy=(rect.get_x() + 0.5*len(rects)* rect.get_width() / len(labels), height),\n",
    "                    xytext=(0, 3),  # 3 points vertical offset\n",
    "                    textcoords=\"offset points\",\n",
    "                    ha='center', va='bottom')\n",
    "        \n",
    "autolabel(rects1)\n",
    "autolabel(rects2)\n",
    "autolabel(rects3)\n",
    "\n",
    "fig.tight_layout()\n",
    "\n",
    "plt.show()"
   ]
  },
  {
   "cell_type": "markdown",
   "metadata": {},
   "source": [
    "Based on the figure above, we can clearly see that the dataset is not unformly distributed among the image classes. Although, the classes: `Normal` and `Infected Covid` have roughly the same number of `train` images and `val` images, there is about `1.7x` the number of `test` images for `Normal` class as compared to the `Infected Covid` class.\n",
    "\n",
    "Take the class `Infected Non-Covid` for instance, it has `~ 2x` the number of `train` images as compared to the number of `train` images as compared to that of the classes: `Normal` and `Infected Covid`. This is not ideal, as the model is **less optimized** in learning parameters to differentiate for the class `Infected Covid` class which is of the **higher priority** here, and instead will learn to better differentiate images for the class `Infected Non Covid`."
   ]
  },
  {
   "cell_type": "markdown",
   "metadata": {},
   "source": [
    "## Average Image\n",
    "Now let’s see what the average image looks like for each class. To compute the average image, we can take the average value of each pixel across all observations."
   ]
  },
  {
   "cell_type": "code",
   "execution_count": 63,
   "metadata": {
    "colab": {
     "base_uri": "https://localhost:8080/",
     "height": 1000,
     "referenced_widgets": [
      "6fee5783655b4f87b72ae9991ca4b68f",
      "f1cedfa244c043a59a41b06e06e0cea3",
      "25572111e202486a899f212754d264ff",
      "96e4001d06e543ea86491065140be864",
      "54d9587e8c894bab9ffe1c8645801022",
      "627e91b40c564372b7a4393eded808f2",
      "fe00b37a76354b6ba3b401a40a1e49af",
      "ea9a81e2954643d8bebec07d3c1b607b",
      "71adcd7536d7423aa729b00419e1e705",
      "6eff14e2dff4460c854f4f893c822b2e",
      "42c4c363ecfd4f8d99601c6a37f90940",
      "f8dd960732fe48079a9d3573ba312db3",
      "b7de0c8bb913467f8945ce8822fc27d4",
      "0c3e8841fde646af90ed0e96ba120850",
      "2b83b91134634094a4b666cce09942d2",
      "3d144b3ff33d485983eb20c00b070c14",
      "ee05a2ca7237451dabb6aa8b7414f815",
      "0f9d9a0bb6c24984b08bad3cab35ce8c",
      "ea8cbceddbf046778d5e9beab5a09d8c",
      "f1a6e8abc8c74aca948e9b3992201a4d",
      "98bf2d6bb3e2474c92bb096d2062005e",
      "69e4b1a682c94806a1c435c085e5c073",
      "893a08bed12a48c9942ae0a2c2365c3b",
      "f2cc3f7edb4b4184bf3bfe2a529ebe04"
     ]
    },
    "executionInfo": {
     "elapsed": 2164787,
     "status": "ok",
     "timestamp": 1615900927163,
     "user": {
      "displayName": "15Y6C44 ONG WEI SONG",
      "photoUrl": "https://lh3.googleusercontent.com/a-/AOh14GhkHTfUdo7h8Mc3vTxNKmIS9CiB24shvF2svaAjLiG8g378ffDzoJHjXI9zsC75aDM_f-prF0I4YjZxsyetLMJ0f3YgMKt0xn7n2vx5U6spUW-rGkTAUZjwLvrtKS4INlUd7kqWpTrRLPs06ilqpY5nkQ6SfComjN61frbKoQntVSp9RKQVsx29gezbM_k27UV1UauerA_Hlj-yPwjGOb1VVl2StcEQtfJXfwB4a4OktzvpPHIP8_IDaPTZJtzrI0kHbkhtWOz2yFqLOhQ5W88uuf9OrVuQjKxR4dSAVpFH-RvyYa0nG73W0eAGQirj7Wjg6BHhVB0KJA7NoTb17uN3P5xCyQTi-cS5T-0YDYO46rNNY6IZGih_gIdrCxuqWx4VOIO2X_GikYCM-NBPnXQNWaeJ5eSwzmYTRpG1GctsahOhjnQmoSSQAJjBJ8bigSY4YDnmJ661VkGvvHORU221837tvoMHcj3gWw86zBqECgADcsZYuFmO4G1BRP7COWRTwvUuMKFWVKQ4jNg-PA0qzFSg1UPZEGoqynGSEk1POWcIpR8tyrdsOcRqETPhhQhG5F6rJi8Hlo4o9qGBNNQPRAB8EP_hgxStxBZ8rY9XhIwRFsS9bh2nYSGPiaxDLqXLt2OW2RrigDahzLk1qAC1nBSciJgWQqtXvoeo5NYW051CotPLFgoPEhoe_58LIHcdUP1myMTiPfIa1ekafPg4c8rgnge_ysHna_LuLicfLGvX-0CPlz_6ChsEwS6l4PERzw=s64",
      "userId": "13943995535295474863"
     },
     "user_tz": -480
    },
    "id": "fe9aQYx1BsKT",
    "outputId": "d1458425-3212-4f9b-b98c-eb8538e2cf84"
   },
   "outputs": [
    {
     "data": {
      "application/vnd.jupyter.widget-view+json": {
       "model_id": "891587e06e724b05b9e47583ca4faeeb",
       "version_major": 2,
       "version_minor": 0
      },
      "text/plain": [
       "  0%|          | 0/1341 [00:00<?, ?it/s]"
      ]
     },
     "metadata": {},
     "output_type": "display_data"
    },
    {
     "data": {
      "application/vnd.jupyter.widget-view+json": {
       "model_id": "f206a5fad6324031a2d96f5b71ce2fa4",
       "version_major": 2,
       "version_minor": 0
      },
      "text/plain": [
       "  0%|          | 0/2530 [00:00<?, ?it/s]"
      ]
     },
     "metadata": {},
     "output_type": "display_data"
    },
    {
     "data": {
      "application/vnd.jupyter.widget-view+json": {
       "model_id": "8c7db7fc26af4f3aac20bc74cc32432c",
       "version_major": 2,
       "version_minor": 0
      },
      "text/plain": [
       "  0%|          | 0/1345 [00:00<?, ?it/s]"
      ]
     },
     "metadata": {},
     "output_type": "display_data"
    },
    {
     "data": {
      "image/png": "[encoded data removed]",
      "text/plain": [
       "<Figure size 864x288 with 3 Axes>"
      ]
     },
     "metadata": {
      "needs_background": "light"
     },
     "output_type": "display_data"
    },
    {
     "data": {
      "image/png": "[encoded data removed]",
      "text/plain": [
       "<Figure size 864x288 with 3 Axes>"
      ]
     },
     "metadata": {
      "needs_background": "light"
     },
     "output_type": "display_data"
    }
   ],
   "source": [
    "def find_mean_img(loader, title, size = (64, 64)):\n",
    "    combined = np.zeros(size)\n",
    "    for index in tqdm(range(loader.dataset_numbers[\"train_\" + title])):\n",
    "        combined += loader.open_img(\"train\", title, index)\n",
    "    # calculate the average\n",
    "    mean_img = combined / loader.dataset_numbers[\"train_\" + title]\n",
    "    # reshape it back to a matrix\n",
    "    return mean_img\n",
    "\n",
    "norm_mean = find_mean_img(ld_train, 'normal', (150, 150))\n",
    "pneu_mean = find_mean_img(ld_train, 'infected_non_covid', (150, 150))\n",
    "cov_pneu_mean = find_mean_img(ld_train, \"infected_covid\", (150, 150))\n",
    "\n",
    "fig, axs = plt.subplots(1,3, figsize=(12, 4))\n",
    "fig.suptitle(\"Average Image of classes\", fontsize=24)\n",
    "axs[0].imshow(norm_mean*255, cmap=\"Greys_r\")\n",
    "axs[0].set_title(\"Normal: Average Image\")\n",
    "axs[0].axis('off')\n",
    "axs[1].imshow(pneu_mean*255, cmap=\"Greys_r\")\n",
    "axs[1].set_title(\"Infected Non Covid: Average Image\")\n",
    "axs[1].axis('off')\n",
    "axs[2].imshow(cov_pneu_mean*255, cmap=\"Greys_r\")\n",
    "axs[2].set_title(\"Infected Covid: Average Image\")\n",
    "axs[2].axis('off')\n",
    "fig.tight_layout()\n",
    "\n",
    "# Contrast between avg images\n",
    "contrast_mean1 = norm_mean - pneu_mean\n",
    "contrast_mean2 = norm_mean - cov_pneu_mean\n",
    "contrast_mean3 = pneu_mean - cov_pneu_mean\n",
    "\n",
    "fig, axs = plt.subplots(1,3, figsize=(12,4))\n",
    "fig.suptitle(\"Contrast Plots between classes\", fontsize=24)\n",
    "axs[0].imshow(contrast_mean1, cmap='bwr')\n",
    "axs[0].set_title('Normal - Infected Non Covid')\n",
    "axs[0].axis('off')\n",
    "axs[1].imshow(contrast_mean2, cmap=\"bwr\")\n",
    "axs[1].set_title('Normal - Covid')\n",
    "axs[1].axis('off')\n",
    "axs[2].imshow(contrast_mean3, cmap=\"bwr\")\n",
    "axs[2].set_title('Infected Non Covid - Covid')\n",
    "axs[2].axis('off')\n",
    "fig.tight_layout()"
   ]
  },
  {
   "cell_type": "markdown",
   "metadata": {},
   "source": [
    "**Some details about X-rays**: The image is developed with respect to the **intensity** of the X-rays hitting the film. Thus, the darker the region, the greater the absorption of X-rays in that region of the radioactive image film. **Fluids** are known to absorb X-rays, therefore in regions of fluids, the image film shows a lighter colour.\n",
    "\n",
    "**Some details about contrast-plots**: `RED` represents postive regions `(+)`, `WHITE` represents neutral regions `(0)` and `BLUE` represents negative regions `(-)`.\n",
    "\n",
    "Looking at the above average images for each class, we can clearly see that the `Normal` average image has a significant, easily identifiable segments of dark grey region corresponding to **air-filled** lungs. It is very clear that the average image of the classes `Infected Non Covid` and `Infected Covid` have less identifiable lung regions - that there are more obstructions in the chest area as compared to the `Normal` average image. Notably, the average image of the `Infected Non Covid` class has detectable more obstructions (fluid) in the lung cavities as compared to the average image of the `Infected Covid` class.\n",
    "\n",
    "Looking at the `contrast plots`, it basically **verifies** our observations made above from the `black & white` average images. `Normal-infected Non Covid` makes sense as it shows a largely different lung section. The pixel values of the lung regions for `Infected Non Covid` class is much larger (AKA brighter and whiter) than the corresponding pixel values of the lung regions for `Normal` class."
   ]
  },
  {
   "cell_type": "markdown",
   "metadata": {
    "id": "NV0ZtwOvkCIb"
   },
   "source": [
    "## Data Augmentation\n",
    "\n",
    "We conduct the following augmentation:\n",
    "1. Translation\n",
    "2. Scaling\n",
    "3. Rotation"
   ]
  },
  {
   "cell_type": "code",
   "execution_count": 25,
   "metadata": {
    "id": "NQbT8ErUMnNI"
   },
   "outputs": [],
   "source": [
    "def imageAugmenter(img, seed=42, debug=False):\n",
    "  torch.manual_seed(seed)   # give it a fixed seed!\n",
    "  class args:\n",
    "    FILL_COLOR = 0.0\n",
    "\n",
    "    ROT_RANGE = 15\n",
    "    TRANS_RANGE_X = 0.1\n",
    "    TRANS_RANGE_Y = 0.1\n",
    "    MIN_SCALE = 0.8\n",
    "    MAX_SCALE = 1.2\n",
    "\n",
    "    MIN_ROTATION = -15\n",
    "    MAX_ROTATION = 15\n",
    "    MIN_TRANSFORM = -5\n",
    "    MAX_TRANSFORM = 5\n",
    "    \n",
    "\n",
    "  augmentTransform = transforms.Compose([\n",
    "      transforms.RandomAffine(args.ROT_RANGE, translate=(args.TRANS_RANGE_X, args.TRANS_RANGE_Y), scale=(args.MIN_SCALE, args.MAX_SCALE), fill=args.FILL_COLOR)\n",
    "  ])\n",
    "\n",
    "  # transform = AffineTransform(translation=(random.uniform(args.MIN_TRANSFORM, args.MAX_TRANSFORM), random.uniform(args.MIN_TRANSFORM, args.MAX_TRANSFORM)))\n",
    "  # augmentedImg = warp(img,transform,mode=args.MODE, cval=args.FILL_COLOR)\n",
    "\n",
    "  # transform = AffineTransform(scale=(random.uniform(args.MIN_SCALE, args.MAX_SCALE), random.uniform(args.MIN_SCALE, args.MAX_SCALE)))\n",
    "  # augmentedImg = warp(augmentedImg,transform,mode=args.MODE, cval=args.FILL_COLOR)\n",
    "\n",
    "  # augmentedImg = rotate(augmentedImg, angle=random.uniform(args.MIN_ROTATION, args.MAX_ROTATION), mode = args.MODE, cval=args.FILL_COLOR)\n",
    "\n",
    "  augmentedImg = augmentTransform(transforms.functional.to_tensor(img).float())\n",
    "\n",
    "  if debug:\n",
    "    fig, axs = plt.subplots(1, 2, figsize=(12,8))\n",
    "    axs[0].imshow(img)\n",
    "    axs[0].set_title(\"Before Augmentation\")\n",
    "    axs[1].imshow(augmentedImg.numpy())\n",
    "    axs[1].set_title(\"After Augmentation\")"
   ]
  },
  {
   "cell_type": "code",
   "execution_count": null,
   "metadata": {
    "colab": {
     "base_uri": "https://localhost:8080/",
     "height": 666
    },
    "executionInfo": {
     "elapsed": 2376,
     "status": "error",
     "timestamp": 1615902894761,
     "user": {
      "displayName": "15Y6C44 ONG WEI SONG",
      "photoUrl": "https://lh3.googleusercontent.com/a-/AOh14GhkHTfUdo7h8Mc3vTxNKmIS9CiB24shvF2svaAjLiG8g378ffDzoJHjXI9zsC75aDM_f-prF0I4YjZxsyetLMJ0f3YgMKt0xn7n2vx5U6spUW-rGkTAUZjwLvrtKS4INlUd7kqWpTrRLPs06ilqpY5nkQ6SfComjN61frbKoQntVSp9RKQVsx29gezbM_k27UV1UauerA_Hlj-yPwjGOb1VVl2StcEQtfJXfwB4a4OktzvpPHIP8_IDaPTZJtzrI0kHbkhtWOz2yFqLOhQ5W88uuf9OrVuQjKxR4dSAVpFH-RvyYa0nG73W0eAGQirj7Wjg6BHhVB0KJA7NoTb17uN3P5xCyQTi-cS5T-0YDYO46rNNY6IZGih_gIdrCxuqWx4VOIO2X_GikYCM-NBPnXQNWaeJ5eSwzmYTRpG1GctsahOhjnQmoSSQAJjBJ8bigSY4YDnmJ661VkGvvHORU221837tvoMHcj3gWw86zBqECgADcsZYuFmO4G1BRP7COWRTwvUuMKFWVKQ4jNg-PA0qzFSg1UPZEGoqynGSEk1POWcIpR8tyrdsOcRqETPhhQhG5F6rJi8Hlo4o9qGBNNQPRAB8EP_hgxStxBZ8rY9XhIwRFsS9bh2nYSGPiaxDLqXLt2OW2RrigDahzLk1qAC1nBSciJgWQqtXvoeo5NYW051CotPLFgoPEhoe_58LIHcdUP1myMTiPfIa1ekafPg4c8rgnge_ysHna_LuLicfLGvX-0CPlz_6ChsEwS6l4PERzw=s64",
      "userId": "13943995535295474863"
     },
     "user_tz": -480
    },
    "id": "pGVGUiDy2U1b",
    "outputId": "8b87cccb-5ef7-4bfe-b18c-4a9768f20f41"
   },
   "outputs": [],
   "source": [
    "imageAugmenter(ld_train.open_img(\"train\", \"normal\", 1), debug=True)"
   ]
  },
  {
   "cell_type": "code",
   "execution_count": null,
   "metadata": {
    "id": "HqkMl47EMxf_"
   },
   "outputs": [],
   "source": [
    "# Model Definition (3 classes classifier)\n",
    "\n",
    "# Resnet50 model Modified from https://github.com/a-martyn\n",
    "\n",
    "class block(nn.Module):\n",
    "    def __init__(self, filters, subsample=False):\n",
    "        super().__init__()\n",
    "        s = 0.5 if subsample else 1.0\n",
    "        \n",
    "        self.conv1 = nn.Conv2d(int(filters*s), filters, kernel_size=3, \n",
    "                               stride=int(1/s), padding=1, bias=False)\n",
    "        self.bn1   = nn.BatchNorm2d(filters, track_running_stats=True)\n",
    "        self.relu1 = nn.ReLU()\n",
    "        self.conv2 = nn.Conv2d(filters, filters, kernel_size=3, stride=1, padding=1, bias=False)\n",
    "        self.bn2   = nn.BatchNorm2d(filters, track_running_stats=True)\n",
    "        self.relu2 = nn.ReLU()\n",
    "\n",
    "        self.downsample = nn.AvgPool2d(kernel_size=1, stride=2)\n",
    "        for m in self.modules():\n",
    "            if isinstance(m, nn.Conv2d):\n",
    "                nn.init.kaiming_normal_(m.weight, mode='fan_out', nonlinearity='relu')\n",
    "            elif isinstance(m, nn.BatchNorm2d):\n",
    "                nn.init.constant_(m.weight, 1)\n",
    "                nn.init.constant_(m.bias, 0)   \n",
    "        \n",
    "    def shortcut(self, z, x):\n",
    "        if x.shape != z.shape:\n",
    "            d = self.downsample(x)\n",
    "            p = torch.mul(d, 0)\n",
    "            return z + torch.cat((d, p), dim=1)\n",
    "        else:\n",
    "            return z + x        \n",
    "    \n",
    "    def forward(self, x, shortcuts=False):\n",
    "        z = self.conv1(x)\n",
    "        z = self.bn1(z)\n",
    "        z = self.relu1(z)\n",
    "        \n",
    "        z = self.conv2(z)\n",
    "        z = self.bn2(z)\n",
    "\n",
    "        if shortcuts:\n",
    "            z = self.shortcut(z, x)\n",
    "\n",
    "        z = self.relu2(z)\n",
    "        \n",
    "        return z\n",
    "    \n",
    "\n",
    "class ResNet(nn.Module):\n",
    "    def __init__(self, n, shortcuts=True):\n",
    "        super().__init__()\n",
    "        self.shortcuts = shortcuts\n",
    "        \n",
    "        self.convIn = nn.Conv2d(3, 16, kernel_size=3, stride=1, padding=1, bias=False)\n",
    "        self.bnIn   = nn.BatchNorm2d(16, track_running_stats=True)\n",
    "        self.relu   = nn.ReLU()\n",
    "        \n",
    "        self.stack1 = nn.ModuleList([block(16, subsample=False) for _ in range(n)])\n",
    "\n",
    "        self.stack2a = block(32, subsample=True)\n",
    "        self.stack2b = nn.ModuleList([block(32, subsample=False) for _ in range(n-1)])\n",
    "\n",
    "        self.stack3a = block(64, subsample=True)\n",
    "        self.stack3b = nn.ModuleList([block(64, subsample=False) for _ in range(n-1)])\n",
    "        \n",
    "        self.avgpool = nn.AdaptiveAvgPool2d((1, 1))\n",
    "        self.fcOut   = nn.Linear(64, 10, bias=True)\n",
    "        self.softmax = nn.LogSoftmax(dim=-1)\n",
    "        \n",
    "        for m in self.modules():\n",
    "            if isinstance(m, nn.Linear):\n",
    "                nn.init.kaiming_normal(m.weight)\n",
    "                m.bias.data.zero_()      \n",
    "        \n",
    "    def forward(self, x):     \n",
    "        z = self.convIn(x)\n",
    "        z = self.bnIn(z)\n",
    "        z = self.relu(z)\n",
    "        \n",
    "        for l in self.stack1: z = l(z, shortcuts=self.shortcuts)\n",
    "        \n",
    "        z = self.stack2a(z, shortcuts=self.shortcuts)\n",
    "        for l in self.stack2b: \n",
    "            z = l(z, shortcuts=self.shortcuts)\n",
    "        \n",
    "        z = self.stack3a(z, shortcuts=self.shortcuts)\n",
    "        for l in self.stack3b: \n",
    "            z = l(z, shortcuts=self.shortcuts)\n",
    "\n",
    "        z = self.avgpool(z)\n",
    "        z = z.view(z.size(0), -1)\n",
    "        z = self.fcOut(z)\n",
    "        return self.softmax(z)\n",
    "\n"
   ]
  },
  {
   "cell_type": "code",
   "execution_count": null,
   "metadata": {
    "colab": {
     "base_uri": "https://localhost:8080/",
     "height": 368
    },
    "executionInfo": {
     "elapsed": 9835,
     "status": "error",
     "timestamp": 1615541492285,
     "user": {
      "displayName": "15Y6C35 CHAN JIE LIN",
      "photoUrl": "https://lh3.googleusercontent.com/a-/AOh14GicA1ahiTYaSmDETvf5vTugyNJ2BgE-U7BuiN0aU8ZSHQvuNxKKLtphR6QhnORf0SIfTbDMci6GRi21bczHC0eY4LoQkquPh-Ckooy8pAMYAtqTimA9X_6uag2hB8ozfPYWsI_esBz6mxPqqy5epFjb0AEZiqrsW-I2Ana7cma87y-l9OnkZ2KGEmvTfmT6Tlu7xIA6eHOxNgph0TKnhn_8N6sANRIMiomEAolOX1CY2geYpnB3rVEnWpccOJ-rPsslxFZqpgAxNKO3jEvoQoYEnYncLBLKWP29pKFtXSkCVXbri_3h37JC_N28Bey5-Kdk0bRfXMKUeo-35lcuS5RJXwijVxMp2vP9jCgN9hOGpNf4eG4tyDolqDxZjNGckq24r-HOH-5yzGMehu73m2lTY1XbOo02cFhRvJc89fxcR7DTH2ujjX7kBkBYm9EO67K5_dB8Dsp_Zuso0pabSZqfnc-Z0FMtM9-Req-yi88MyOq7MlKB_-VR3_CoBeKMdO7tfnlVdis_y5ShlkrmM9wxNMiIQSVYEa-FTJ4egwQ7SdXjdzlHBn3mPp7ArJI2ZGsq5fs1o1YahfEJB_Kf69Gn8gT9R1zb9yr6dLlQqVdNk4gk37z8HVQP7QtiMpkD8Pw_FE0VqykzGyC3CkSmyykdMtf58m5ZvntmUTb7F-6WWnplmv4H32psdO1VPvF3xnl_nl_EeTFeTm6V67JNECi4sZH3KZyGSrdYj4VlSibf1nxvNHFX1EtNOkoPr-OsgPnfcw=s64",
      "userId": "15442731882716137360"
     },
     "user_tz": -480
    },
    "id": "q0rFAqWmNcFV",
    "outputId": "5ceed403-b958-48cd-bd93-c73f51875f73"
   },
   "outputs": [],
   "source": [
    "# Training \n",
    "# Display progress over time, show time at which epoch ends, loss values on train set and test set\n",
    "# Display accuracy also \n",
    "# Save model regularly \n",
    "# Get history of losses and accuracy?\n",
    "\n",
    "def train_one_epoch(model, device, train_loader, optimizer, epoch, epochs): \n",
    "    print('training now...')\n",
    "    model.train()\n",
    "    for batch_idx, (data, target) in enumerate(train_loader):\n",
    "        datetimeobj = datetime.now()\n",
    "        data, target = data.to(device), target.to(device)\n",
    "        optimizer.zero_grad()\n",
    "        output = model(data)\n",
    "        loss = F.nll_loss(output, target)\n",
    "        loss.backward()\n",
    "        optimizer.step()\n",
    "    print('Train Epoch: {}/{} @  {}\\tTrain Loss: {:.4f}'.format(epoch, epochs, datetime.now(), train_loss))\n",
    "\n",
    "def test_one_epoch(model, device, test_loader, datatype):\n",
    "    model.eval()\n",
    "    test_loss = 0\n",
    "    correct = 0\n",
    "    with torch.no_grad():\n",
    "        for data, target in test_loader:\n",
    "            data, target = data.to(device), target.to(device)\n",
    "            output = model(data)\n",
    "            test_loss += F.nll_loss(output, target, reduction='sum').item()  # sum up batch loss\n",
    "            pred = output.argmax(dim=1, keepdim=True)  # get the index of the max log-probability\n",
    "            correct += pred.eq(target.view_as(pred)).sum().item()\n",
    "\n",
    "    test_loss /= len(test_loader.dataset)\n",
    "\n",
    "    print('\\n{} set: Average loss: {:.4f}, Accuracy: {}/{} ({:.0f}%)\\n'.format(datatype,\n",
    "        test_loss, correct, len(test_loader.dataset),\n",
    "        100. * correct / len(test_loader.dataset)))\n",
    "    return model\n",
    "\n",
    "def train():\n",
    "    trainloss_history = []\n",
    "    testacc_history = []\n",
    "    valloss_history = [] \n",
    "    valacc_history = []\n",
    "\n",
    "    class args:\n",
    "      batch_size = 64 \n",
    "      test_batch_size = 1000 \n",
    "      epochs = 5\n",
    "      lr = 1.0 \n",
    "      gamma = 0.7 \n",
    "      no_cuda = False \n",
    "      dry_run = False \n",
    "      seed = 1 \n",
    "      log_interval = 100 \n",
    "      save_model = False \n",
    "      momentum = \n",
    "      weight_decay = \n",
    "\n",
    "    device = \"cuda\"\n",
    "\n",
    "    model = ResNet(7,shortcuts=True).to(device)\n",
    "    optimizer = optim.SGD(model.parameters(), args.lr=lr, args.momentum=momentum, args.weight_decay=weight_decay)\n",
    "\n",
    "    for epoch in range(1, epochs + 1):\n",
    "        train_one_epoch(args, model, device, trainloader, optimizer, epoch, epochs)\n",
    "        test_one_epoch(model, device, testloader,\"test\")\n",
    "        test_one_epoch(model, device, validloader,\"valid\")\n",
    "    return model\n",
    "\n",
    "        \n",
    "train()\n",
    "    \n",
    "\n"
   ]
  },
  {
   "cell_type": "code",
   "execution_count": null,
   "metadata": {
    "id": "B7ZIPjiiNxjE"
   },
   "outputs": [],
   "source": [
    "# Loading model "
   ]
  },
  {
   "cell_type": "code",
   "execution_count": null,
   "metadata": {
    "id": "40h2tKrbN9Qn"
   },
   "outputs": [],
   "source": [
    "# Show performance on validation "
   ]
  },
  {
   "cell_type": "markdown",
   "metadata": {
    "id": "F65-nre8OHhI"
   },
   "source": [
    "More difficult to differentiate between non covid and covid x-rays rather than between normal and infected? Is it expected? Discuss. \n",
    "Better to have model with high overall accuracy or low true negatives/false positives rates on certain classes. "
   ]
  },
  {
   "cell_type": "code",
   "execution_count": null,
   "metadata": {
    "id": "ulUkSEA2Obja"
   },
   "outputs": [],
   "source": [
    "# Learning rate scheduler "
   ]
  },
  {
   "cell_type": "code",
   "execution_count": null,
   "metadata": {
    "id": "kWW1GbR7OefH"
   },
   "outputs": [],
   "source": [
    "# Regularization "
   ]
  },
  {
   "cell_type": "code",
   "execution_count": null,
   "metadata": {
    "id": "UIaM9SYkOhgZ"
   },
   "outputs": [],
   "source": [
    "# Feature map visuals "
   ]
  }
 ],
 "metadata": {
  "accelerator": "GPU",
  "colab": {
   "collapsed_sections": [],
   "name": "SmallProjectSubmission.ipynb",
   "provenance": []
  },
  "kernelspec": {
   "display_name": "Python 3",
   "language": "python",
   "name": "python3"
  },
  "language_info": {
   "codemirror_mode": {
    "name": "ipython",
    "version": 3
   },
   "file_extension": ".py",
   "mimetype": "text/x-python",
   "name": "python",
   "nbconvert_exporter": "python",
   "pygments_lexer": "ipython3",
   "version": "3.9.1"
  },
  "widgets": {
   "application/vnd.jupyter.widget-state+json": {
    "0c3e8841fde646af90ed0e96ba120850": {
     "model_module": "@jupyter-widgets/base",
     "model_name": "LayoutModel",
     "state": {
      "_model_module": "@jupyter-widgets/base",
      "_model_module_version": "1.2.0",
      "_model_name": "LayoutModel",
      "_view_count": null,
      "_view_module": "@jupyter-widgets/base",
      "_view_module_version": "1.2.0",
      "_view_name": "LayoutView",
      "align_content": null,
      "align_items": null,
      "align_self": null,
      "border": null,
      "bottom": null,
      "display": null,
      "flex": null,
      "flex_flow": null,
      "grid_area": null,
      "grid_auto_columns": null,
      "grid_auto_flow": null,
      "grid_auto_rows": null,
      "grid_column": null,
      "grid_gap": null,
      "grid_row": null,
      "grid_template_areas": null,
      "grid_template_columns": null,
      "grid_template_rows": null,
      "height": null,
      "justify_content": null,
      "justify_items": null,
      "left": null,
      "margin": null,
      "max_height": null,
      "max_width": null,
      "min_height": null,
      "min_width": null,
      "object_fit": null,
      "object_position": null,
      "order": null,
      "overflow": null,
      "overflow_x": null,
      "overflow_y": null,
      "padding": null,
      "right": null,
      "top": null,
      "visibility": null,
      "width": null
     }
    },
    "0f9d9a0bb6c24984b08bad3cab35ce8c": {
     "model_module": "@jupyter-widgets/base",
     "model_name": "LayoutModel",
     "state": {
      "_model_module": "@jupyter-widgets/base",
      "_model_module_version": "1.2.0",
      "_model_name": "LayoutModel",
      "_view_count": null,
      "_view_module": "@jupyter-widgets/base",
      "_view_module_version": "1.2.0",
      "_view_name": "LayoutView",
      "align_content": null,
      "align_items": null,
      "align_self": null,
      "border": null,
      "bottom": null,
      "display": null,
      "flex": null,
      "flex_flow": null,
      "grid_area": null,
      "grid_auto_columns": null,
      "grid_auto_flow": null,
      "grid_auto_rows": null,
      "grid_column": null,
      "grid_gap": null,
      "grid_row": null,
      "grid_template_areas": null,
      "grid_template_columns": null,
      "grid_template_rows": null,
      "height": null,
      "justify_content": null,
      "justify_items": null,
      "left": null,
      "margin": null,
      "max_height": null,
      "max_width": null,
      "min_height": null,
      "min_width": null,
      "object_fit": null,
      "object_position": null,
      "order": null,
      "overflow": null,
      "overflow_x": null,
      "overflow_y": null,
      "padding": null,
      "right": null,
      "top": null,
      "visibility": null,
      "width": null
     }
    },
    "25572111e202486a899f212754d264ff": {
     "model_module": "@jupyter-widgets/controls",
     "model_name": "FloatProgressModel",
     "state": {
      "_dom_classes": [],
      "_model_module": "@jupyter-widgets/controls",
      "_model_module_version": "1.5.0",
      "_model_name": "FloatProgressModel",
      "_view_count": null,
      "_view_module": "@jupyter-widgets/controls",
      "_view_module_version": "1.5.0",
      "_view_name": "ProgressView",
      "bar_style": "success",
      "description": "100%",
      "description_tooltip": null,
      "layout": "IPY_MODEL_627e91b40c564372b7a4393eded808f2",
      "max": 1341,
      "min": 0,
      "orientation": "horizontal",
      "style": "IPY_MODEL_54d9587e8c894bab9ffe1c8645801022",
      "value": 1341
     }
    },
    "2b83b91134634094a4b666cce09942d2": {
     "model_module": "@jupyter-widgets/controls",
     "model_name": "DescriptionStyleModel",
     "state": {
      "_model_module": "@jupyter-widgets/controls",
      "_model_module_version": "1.5.0",
      "_model_name": "DescriptionStyleModel",
      "_view_count": null,
      "_view_module": "@jupyter-widgets/base",
      "_view_module_version": "1.2.0",
      "_view_name": "StyleView",
      "description_width": ""
     }
    },
    "3d144b3ff33d485983eb20c00b070c14": {
     "model_module": "@jupyter-widgets/base",
     "model_name": "LayoutModel",
     "state": {
      "_model_module": "@jupyter-widgets/base",
      "_model_module_version": "1.2.0",
      "_model_name": "LayoutModel",
      "_view_count": null,
      "_view_module": "@jupyter-widgets/base",
      "_view_module_version": "1.2.0",
      "_view_name": "LayoutView",
      "align_content": null,
      "align_items": null,
      "align_self": null,
      "border": null,
      "bottom": null,
      "display": null,
      "flex": null,
      "flex_flow": null,
      "grid_area": null,
      "grid_auto_columns": null,
      "grid_auto_flow": null,
      "grid_auto_rows": null,
      "grid_column": null,
      "grid_gap": null,
      "grid_row": null,
      "grid_template_areas": null,
      "grid_template_columns": null,
      "grid_template_rows": null,
      "height": null,
      "justify_content": null,
      "justify_items": null,
      "left": null,
      "margin": null,
      "max_height": null,
      "max_width": null,
      "min_height": null,
      "min_width": null,
      "object_fit": null,
      "object_position": null,
      "order": null,
      "overflow": null,
      "overflow_x": null,
      "overflow_y": null,
      "padding": null,
      "right": null,
      "top": null,
      "visibility": null,
      "width": null
     }
    },
    "42c4c363ecfd4f8d99601c6a37f90940": {
     "model_module": "@jupyter-widgets/controls",
     "model_name": "FloatProgressModel",
     "state": {
      "_dom_classes": [],
      "_model_module": "@jupyter-widgets/controls",
      "_model_module_version": "1.5.0",
      "_model_name": "FloatProgressModel",
      "_view_count": null,
      "_view_module": "@jupyter-widgets/controls",
      "_view_module_version": "1.5.0",
      "_view_name": "ProgressView",
      "bar_style": "success",
      "description": "100%",
      "description_tooltip": null,
      "layout": "IPY_MODEL_0c3e8841fde646af90ed0e96ba120850",
      "max": 2530,
      "min": 0,
      "orientation": "horizontal",
      "style": "IPY_MODEL_b7de0c8bb913467f8945ce8822fc27d4",
      "value": 2530
     }
    },
    "4d0324c52d6c48c49e407b790fba7c62": {
     "model_module": "@jupyter-widgets/base",
     "model_name": "LayoutModel",
     "state": {
      "_model_module": "@jupyter-widgets/base",
      "_model_module_version": "1.2.0",
      "_model_name": "LayoutModel",
      "_view_count": null,
      "_view_module": "@jupyter-widgets/base",
      "_view_module_version": "1.2.0",
      "_view_name": "LayoutView",
      "align_content": null,
      "align_items": null,
      "align_self": null,
      "border": null,
      "bottom": null,
      "display": null,
      "flex": null,
      "flex_flow": null,
      "grid_area": null,
      "grid_auto_columns": null,
      "grid_auto_flow": null,
      "grid_auto_rows": null,
      "grid_column": null,
      "grid_gap": null,
      "grid_row": null,
      "grid_template_areas": null,
      "grid_template_columns": null,
      "grid_template_rows": null,
      "height": null,
      "justify_content": null,
      "justify_items": null,
      "left": null,
      "margin": null,
      "max_height": null,
      "max_width": null,
      "min_height": null,
      "min_width": null,
      "object_fit": null,
      "object_position": null,
      "order": null,
      "overflow": null,
      "overflow_x": null,
      "overflow_y": null,
      "padding": null,
      "right": null,
      "top": null,
      "visibility": null,
      "width": null
     }
    },
    "54d9587e8c894bab9ffe1c8645801022": {
     "model_module": "@jupyter-widgets/controls",
     "model_name": "ProgressStyleModel",
     "state": {
      "_model_module": "@jupyter-widgets/controls",
      "_model_module_version": "1.5.0",
      "_model_name": "ProgressStyleModel",
      "_view_count": null,
      "_view_module": "@jupyter-widgets/base",
      "_view_module_version": "1.2.0",
      "_view_name": "StyleView",
      "bar_color": null,
      "description_width": "initial"
     }
    },
    "5858380572e04173a306b484cfc92244": {
     "model_module": "@jupyter-widgets/base",
     "model_name": "LayoutModel",
     "state": {
      "_model_module": "@jupyter-widgets/base",
      "_model_module_version": "1.2.0",
      "_model_name": "LayoutModel",
      "_view_count": null,
      "_view_module": "@jupyter-widgets/base",
      "_view_module_version": "1.2.0",
      "_view_name": "LayoutView",
      "align_content": null,
      "align_items": null,
      "align_self": null,
      "border": null,
      "bottom": null,
      "display": null,
      "flex": null,
      "flex_flow": null,
      "grid_area": null,
      "grid_auto_columns": null,
      "grid_auto_flow": null,
      "grid_auto_rows": null,
      "grid_column": null,
      "grid_gap": null,
      "grid_row": null,
      "grid_template_areas": null,
      "grid_template_columns": null,
      "grid_template_rows": null,
      "height": null,
      "justify_content": null,
      "justify_items": null,
      "left": null,
      "margin": null,
      "max_height": null,
      "max_width": null,
      "min_height": null,
      "min_width": null,
      "object_fit": null,
      "object_position": null,
      "order": null,
      "overflow": null,
      "overflow_x": null,
      "overflow_y": null,
      "padding": null,
      "right": null,
      "top": null,
      "visibility": null,
      "width": null
     }
    },
    "627e91b40c564372b7a4393eded808f2": {
     "model_module": "@jupyter-widgets/base",
     "model_name": "LayoutModel",
     "state": {
      "_model_module": "@jupyter-widgets/base",
      "_model_module_version": "1.2.0",
      "_model_name": "LayoutModel",
      "_view_count": null,
      "_view_module": "@jupyter-widgets/base",
      "_view_module_version": "1.2.0",
      "_view_name": "LayoutView",
      "align_content": null,
      "align_items": null,
      "align_self": null,
      "border": null,
      "bottom": null,
      "display": null,
      "flex": null,
      "flex_flow": null,
      "grid_area": null,
      "grid_auto_columns": null,
      "grid_auto_flow": null,
      "grid_auto_rows": null,
      "grid_column": null,
      "grid_gap": null,
      "grid_row": null,
      "grid_template_areas": null,
      "grid_template_columns": null,
      "grid_template_rows": null,
      "height": null,
      "justify_content": null,
      "justify_items": null,
      "left": null,
      "margin": null,
      "max_height": null,
      "max_width": null,
      "min_height": null,
      "min_width": null,
      "object_fit": null,
      "object_position": null,
      "order": null,
      "overflow": null,
      "overflow_x": null,
      "overflow_y": null,
      "padding": null,
      "right": null,
      "top": null,
      "visibility": null,
      "width": null
     }
    },
    "69e4b1a682c94806a1c435c085e5c073": {
     "model_module": "@jupyter-widgets/base",
     "model_name": "LayoutModel",
     "state": {
      "_model_module": "@jupyter-widgets/base",
      "_model_module_version": "1.2.0",
      "_model_name": "LayoutModel",
      "_view_count": null,
      "_view_module": "@jupyter-widgets/base",
      "_view_module_version": "1.2.0",
      "_view_name": "LayoutView",
      "align_content": null,
      "align_items": null,
      "align_self": null,
      "border": null,
      "bottom": null,
      "display": null,
      "flex": null,
      "flex_flow": null,
      "grid_area": null,
      "grid_auto_columns": null,
      "grid_auto_flow": null,
      "grid_auto_rows": null,
      "grid_column": null,
      "grid_gap": null,
      "grid_row": null,
      "grid_template_areas": null,
      "grid_template_columns": null,
      "grid_template_rows": null,
      "height": null,
      "justify_content": null,
      "justify_items": null,
      "left": null,
      "margin": null,
      "max_height": null,
      "max_width": null,
      "min_height": null,
      "min_width": null,
      "object_fit": null,
      "object_position": null,
      "order": null,
      "overflow": null,
      "overflow_x": null,
      "overflow_y": null,
      "padding": null,
      "right": null,
      "top": null,
      "visibility": null,
      "width": null
     }
    },
    "6eff14e2dff4460c854f4f893c822b2e": {
     "model_module": "@jupyter-widgets/base",
     "model_name": "LayoutModel",
     "state": {
      "_model_module": "@jupyter-widgets/base",
      "_model_module_version": "1.2.0",
      "_model_name": "LayoutModel",
      "_view_count": null,
      "_view_module": "@jupyter-widgets/base",
      "_view_module_version": "1.2.0",
      "_view_name": "LayoutView",
      "align_content": null,
      "align_items": null,
      "align_self": null,
      "border": null,
      "bottom": null,
      "display": null,
      "flex": null,
      "flex_flow": null,
      "grid_area": null,
      "grid_auto_columns": null,
      "grid_auto_flow": null,
      "grid_auto_rows": null,
      "grid_column": null,
      "grid_gap": null,
      "grid_row": null,
      "grid_template_areas": null,
      "grid_template_columns": null,
      "grid_template_rows": null,
      "height": null,
      "justify_content": null,
      "justify_items": null,
      "left": null,
      "margin": null,
      "max_height": null,
      "max_width": null,
      "min_height": null,
      "min_width": null,
      "object_fit": null,
      "object_position": null,
      "order": null,
      "overflow": null,
      "overflow_x": null,
      "overflow_y": null,
      "padding": null,
      "right": null,
      "top": null,
      "visibility": null,
      "width": null
     }
    },
    "6fee5783655b4f87b72ae9991ca4b68f": {
     "model_module": "@jupyter-widgets/controls",
     "model_name": "HBoxModel",
     "state": {
      "_dom_classes": [],
      "_model_module": "@jupyter-widgets/controls",
      "_model_module_version": "1.5.0",
      "_model_name": "HBoxModel",
      "_view_count": null,
      "_view_module": "@jupyter-widgets/controls",
      "_view_module_version": "1.5.0",
      "_view_name": "HBoxView",
      "box_style": "",
      "children": [
       "IPY_MODEL_25572111e202486a899f212754d264ff",
       "IPY_MODEL_96e4001d06e543ea86491065140be864"
      ],
      "layout": "IPY_MODEL_f1cedfa244c043a59a41b06e06e0cea3"
     }
    },
    "71adcd7536d7423aa729b00419e1e705": {
     "model_module": "@jupyter-widgets/controls",
     "model_name": "HBoxModel",
     "state": {
      "_dom_classes": [],
      "_model_module": "@jupyter-widgets/controls",
      "_model_module_version": "1.5.0",
      "_model_name": "HBoxModel",
      "_view_count": null,
      "_view_module": "@jupyter-widgets/controls",
      "_view_module_version": "1.5.0",
      "_view_name": "HBoxView",
      "box_style": "",
      "children": [
       "IPY_MODEL_42c4c363ecfd4f8d99601c6a37f90940",
       "IPY_MODEL_f8dd960732fe48079a9d3573ba312db3"
      ],
      "layout": "IPY_MODEL_6eff14e2dff4460c854f4f893c822b2e"
     }
    },
    "893a08bed12a48c9942ae0a2c2365c3b": {
     "model_module": "@jupyter-widgets/controls",
     "model_name": "DescriptionStyleModel",
     "state": {
      "_model_module": "@jupyter-widgets/controls",
      "_model_module_version": "1.5.0",
      "_model_name": "DescriptionStyleModel",
      "_view_count": null,
      "_view_module": "@jupyter-widgets/base",
      "_view_module_version": "1.2.0",
      "_view_name": "StyleView",
      "description_width": ""
     }
    },
    "96e4001d06e543ea86491065140be864": {
     "model_module": "@jupyter-widgets/controls",
     "model_name": "HTMLModel",
     "state": {
      "_dom_classes": [],
      "_model_module": "@jupyter-widgets/controls",
      "_model_module_version": "1.5.0",
      "_model_name": "HTMLModel",
      "_view_count": null,
      "_view_module": "@jupyter-widgets/controls",
      "_view_module_version": "1.5.0",
      "_view_name": "HTMLView",
      "description": "",
      "description_tooltip": null,
      "layout": "IPY_MODEL_ea9a81e2954643d8bebec07d3c1b607b",
      "placeholder": "​",
      "style": "IPY_MODEL_fe00b37a76354b6ba3b401a40a1e49af",
      "value": " 1341/1341 [09:52&lt;00:00,  2.26it/s]"
     }
    },
    "98bf2d6bb3e2474c92bb096d2062005e": {
     "model_module": "@jupyter-widgets/controls",
     "model_name": "ProgressStyleModel",
     "state": {
      "_model_module": "@jupyter-widgets/controls",
      "_model_module_version": "1.5.0",
      "_model_name": "ProgressStyleModel",
      "_view_count": null,
      "_view_module": "@jupyter-widgets/base",
      "_view_module_version": "1.2.0",
      "_view_name": "StyleView",
      "bar_color": null,
      "description_width": "initial"
     }
    },
    "9de7845d68f144f786ca6666db52f907": {
     "model_module": "@jupyter-widgets/controls",
     "model_name": "FloatProgressModel",
     "state": {
      "_dom_classes": [],
      "_model_module": "@jupyter-widgets/controls",
      "_model_module_version": "1.5.0",
      "_model_name": "FloatProgressModel",
      "_view_count": null,
      "_view_module": "@jupyter-widgets/controls",
      "_view_module_version": "1.5.0",
      "_view_name": "ProgressView",
      "bar_style": "",
      "description": "  0%",
      "description_tooltip": null,
      "layout": "IPY_MODEL_5858380572e04173a306b484cfc92244",
      "max": 1304,
      "min": 0,
      "orientation": "horizontal",
      "style": "IPY_MODEL_fe0a8a36832f45ff9eb34b9943822a31",
      "value": 4
     }
    },
    "a7a55caf936b4ec5b4c9a8bbde6542f9": {
     "model_module": "@jupyter-widgets/controls",
     "model_name": "HBoxModel",
     "state": {
      "_dom_classes": [],
      "_model_module": "@jupyter-widgets/controls",
      "_model_module_version": "1.5.0",
      "_model_name": "HBoxModel",
      "_view_count": null,
      "_view_module": "@jupyter-widgets/controls",
      "_view_module_version": "1.5.0",
      "_view_name": "HBoxView",
      "box_style": "",
      "children": [
       "IPY_MODEL_9de7845d68f144f786ca6666db52f907",
       "IPY_MODEL_bbfd8e4b6731419b8db51c6b0d5d9724"
      ],
      "layout": "IPY_MODEL_4d0324c52d6c48c49e407b790fba7c62"
     }
    },
    "aed97cab2bb647c58e0080aedca41f44": {
     "model_module": "@jupyter-widgets/controls",
     "model_name": "DescriptionStyleModel",
     "state": {
      "_model_module": "@jupyter-widgets/controls",
      "_model_module_version": "1.5.0",
      "_model_name": "DescriptionStyleModel",
      "_view_count": null,
      "_view_module": "@jupyter-widgets/base",
      "_view_module_version": "1.2.0",
      "_view_name": "StyleView",
      "description_width": ""
     }
    },
    "b7de0c8bb913467f8945ce8822fc27d4": {
     "model_module": "@jupyter-widgets/controls",
     "model_name": "ProgressStyleModel",
     "state": {
      "_model_module": "@jupyter-widgets/controls",
      "_model_module_version": "1.5.0",
      "_model_name": "ProgressStyleModel",
      "_view_count": null,
      "_view_module": "@jupyter-widgets/base",
      "_view_module_version": "1.2.0",
      "_view_name": "StyleView",
      "bar_color": null,
      "description_width": "initial"
     }
    },
    "bbb62e88372c456bbb92945a17d03ca3": {
     "model_module": "@jupyter-widgets/base",
     "model_name": "LayoutModel",
     "state": {
      "_model_module": "@jupyter-widgets/base",
      "_model_module_version": "1.2.0",
      "_model_name": "LayoutModel",
      "_view_count": null,
      "_view_module": "@jupyter-widgets/base",
      "_view_module_version": "1.2.0",
      "_view_name": "LayoutView",
      "align_content": null,
      "align_items": null,
      "align_self": null,
      "border": null,
      "bottom": null,
      "display": null,
      "flex": null,
      "flex_flow": null,
      "grid_area": null,
      "grid_auto_columns": null,
      "grid_auto_flow": null,
      "grid_auto_rows": null,
      "grid_column": null,
      "grid_gap": null,
      "grid_row": null,
      "grid_template_areas": null,
      "grid_template_columns": null,
      "grid_template_rows": null,
      "height": null,
      "justify_content": null,
      "justify_items": null,
      "left": null,
      "margin": null,
      "max_height": null,
      "max_width": null,
      "min_height": null,
      "min_width": null,
      "object_fit": null,
      "object_position": null,
      "order": null,
      "overflow": null,
      "overflow_x": null,
      "overflow_y": null,
      "padding": null,
      "right": null,
      "top": null,
      "visibility": null,
      "width": null
     }
    },
    "bbfd8e4b6731419b8db51c6b0d5d9724": {
     "model_module": "@jupyter-widgets/controls",
     "model_name": "HTMLModel",
     "state": {
      "_dom_classes": [],
      "_model_module": "@jupyter-widgets/controls",
      "_model_module_version": "1.5.0",
      "_model_name": "HTMLModel",
      "_view_count": null,
      "_view_module": "@jupyter-widgets/controls",
      "_view_module_version": "1.5.0",
      "_view_name": "HTMLView",
      "description": "",
      "description_tooltip": null,
      "layout": "IPY_MODEL_bbb62e88372c456bbb92945a17d03ca3",
      "placeholder": "​",
      "style": "IPY_MODEL_aed97cab2bb647c58e0080aedca41f44",
      "value": " 4/1304 [00:05&lt;32:04,  1.48s/it]"
     }
    },
    "ea8cbceddbf046778d5e9beab5a09d8c": {
     "model_module": "@jupyter-widgets/controls",
     "model_name": "FloatProgressModel",
     "state": {
      "_dom_classes": [],
      "_model_module": "@jupyter-widgets/controls",
      "_model_module_version": "1.5.0",
      "_model_name": "FloatProgressModel",
      "_view_count": null,
      "_view_module": "@jupyter-widgets/controls",
      "_view_module_version": "1.5.0",
      "_view_name": "ProgressView",
      "bar_style": "success",
      "description": "100%",
      "description_tooltip": null,
      "layout": "IPY_MODEL_69e4b1a682c94806a1c435c085e5c073",
      "max": 1345,
      "min": 0,
      "orientation": "horizontal",
      "style": "IPY_MODEL_98bf2d6bb3e2474c92bb096d2062005e",
      "value": 1345
     }
    },
    "ea9a81e2954643d8bebec07d3c1b607b": {
     "model_module": "@jupyter-widgets/base",
     "model_name": "LayoutModel",
     "state": {
      "_model_module": "@jupyter-widgets/base",
      "_model_module_version": "1.2.0",
      "_model_name": "LayoutModel",
      "_view_count": null,
      "_view_module": "@jupyter-widgets/base",
      "_view_module_version": "1.2.0",
      "_view_name": "LayoutView",
      "align_content": null,
      "align_items": null,
      "align_self": null,
      "border": null,
      "bottom": null,
      "display": null,
      "flex": null,
      "flex_flow": null,
      "grid_area": null,
      "grid_auto_columns": null,
      "grid_auto_flow": null,
      "grid_auto_rows": null,
      "grid_column": null,
      "grid_gap": null,
      "grid_row": null,
      "grid_template_areas": null,
      "grid_template_columns": null,
      "grid_template_rows": null,
      "height": null,
      "justify_content": null,
      "justify_items": null,
      "left": null,
      "margin": null,
      "max_height": null,
      "max_width": null,
      "min_height": null,
      "min_width": null,
      "object_fit": null,
      "object_position": null,
      "order": null,
      "overflow": null,
      "overflow_x": null,
      "overflow_y": null,
      "padding": null,
      "right": null,
      "top": null,
      "visibility": null,
      "width": null
     }
    },
    "ee05a2ca7237451dabb6aa8b7414f815": {
     "model_module": "@jupyter-widgets/controls",
     "model_name": "HBoxModel",
     "state": {
      "_dom_classes": [],
      "_model_module": "@jupyter-widgets/controls",
      "_model_module_version": "1.5.0",
      "_model_name": "HBoxModel",
      "_view_count": null,
      "_view_module": "@jupyter-widgets/controls",
      "_view_module_version": "1.5.0",
      "_view_name": "HBoxView",
      "box_style": "",
      "children": [
       "IPY_MODEL_ea8cbceddbf046778d5e9beab5a09d8c",
       "IPY_MODEL_f1a6e8abc8c74aca948e9b3992201a4d"
      ],
      "layout": "IPY_MODEL_0f9d9a0bb6c24984b08bad3cab35ce8c"
     }
    },
    "f1a6e8abc8c74aca948e9b3992201a4d": {
     "model_module": "@jupyter-widgets/controls",
     "model_name": "HTMLModel",
     "state": {
      "_dom_classes": [],
      "_model_module": "@jupyter-widgets/controls",
      "_model_module_version": "1.5.0",
      "_model_name": "HTMLModel",
      "_view_count": null,
      "_view_module": "@jupyter-widgets/controls",
      "_view_module_version": "1.5.0",
      "_view_name": "HTMLView",
      "description": "",
      "description_tooltip": null,
      "layout": "IPY_MODEL_f2cc3f7edb4b4184bf3bfe2a529ebe04",
      "placeholder": "​",
      "style": "IPY_MODEL_893a08bed12a48c9942ae0a2c2365c3b",
      "value": " 1345/1345 [09:10&lt;00:00,  2.44it/s]"
     }
    },
    "f1cedfa244c043a59a41b06e06e0cea3": {
     "model_module": "@jupyter-widgets/base",
     "model_name": "LayoutModel",
     "state": {
      "_model_module": "@jupyter-widgets/base",
      "_model_module_version": "1.2.0",
      "_model_name": "LayoutModel",
      "_view_count": null,
      "_view_module": "@jupyter-widgets/base",
      "_view_module_version": "1.2.0",
      "_view_name": "LayoutView",
      "align_content": null,
      "align_items": null,
      "align_self": null,
      "border": null,
      "bottom": null,
      "display": null,
      "flex": null,
      "flex_flow": null,
      "grid_area": null,
      "grid_auto_columns": null,
      "grid_auto_flow": null,
      "grid_auto_rows": null,
      "grid_column": null,
      "grid_gap": null,
      "grid_row": null,
      "grid_template_areas": null,
      "grid_template_columns": null,
      "grid_template_rows": null,
      "height": null,
      "justify_content": null,
      "justify_items": null,
      "left": null,
      "margin": null,
      "max_height": null,
      "max_width": null,
      "min_height": null,
      "min_width": null,
      "object_fit": null,
      "object_position": null,
      "order": null,
      "overflow": null,
      "overflow_x": null,
      "overflow_y": null,
      "padding": null,
      "right": null,
      "top": null,
      "visibility": null,
      "width": null
     }
    },
    "f2cc3f7edb4b4184bf3bfe2a529ebe04": {
     "model_module": "@jupyter-widgets/base",
     "model_name": "LayoutModel",
     "state": {
      "_model_module": "@jupyter-widgets/base",
      "_model_module_version": "1.2.0",
      "_model_name": "LayoutModel",
      "_view_count": null,
      "_view_module": "@jupyter-widgets/base",
      "_view_module_version": "1.2.0",
      "_view_name": "LayoutView",
      "align_content": null,
      "align_items": null,
      "align_self": null,
      "border": null,
      "bottom": null,
      "display": null,
      "flex": null,
      "flex_flow": null,
      "grid_area": null,
      "grid_auto_columns": null,
      "grid_auto_flow": null,
      "grid_auto_rows": null,
      "grid_column": null,
      "grid_gap": null,
      "grid_row": null,
      "grid_template_areas": null,
      "grid_template_columns": null,
      "grid_template_rows": null,
      "height": null,
      "justify_content": null,
      "justify_items": null,
      "left": null,
      "margin": null,
      "max_height": null,
      "max_width": null,
      "min_height": null,
      "min_width": null,
      "object_fit": null,
      "object_position": null,
      "order": null,
      "overflow": null,
      "overflow_x": null,
      "overflow_y": null,
      "padding": null,
      "right": null,
      "top": null,
      "visibility": null,
      "width": null
     }
    },
    "f8dd960732fe48079a9d3573ba312db3": {
     "model_module": "@jupyter-widgets/controls",
     "model_name": "HTMLModel",
     "state": {
      "_dom_classes": [],
      "_model_module": "@jupyter-widgets/controls",
      "_model_module_version": "1.5.0",
      "_model_name": "HTMLModel",
      "_view_count": null,
      "_view_module": "@jupyter-widgets/controls",
      "_view_module_version": "1.5.0",
      "_view_name": "HTMLView",
      "description": "",
      "description_tooltip": null,
      "layout": "IPY_MODEL_3d144b3ff33d485983eb20c00b070c14",
      "placeholder": "​",
      "style": "IPY_MODEL_2b83b91134634094a4b666cce09942d2",
      "value": " 2530/2530 [16:59&lt;00:00,  2.48it/s]"
     }
    },
    "fe00b37a76354b6ba3b401a40a1e49af": {
     "model_module": "@jupyter-widgets/controls",
     "model_name": "DescriptionStyleModel",
     "state": {
      "_model_module": "@jupyter-widgets/controls",
      "_model_module_version": "1.5.0",
      "_model_name": "DescriptionStyleModel",
      "_view_count": null,
      "_view_module": "@jupyter-widgets/base",
      "_view_module_version": "1.2.0",
      "_view_name": "StyleView",
      "description_width": ""
     }
    },
    "fe0a8a36832f45ff9eb34b9943822a31": {
     "model_module": "@jupyter-widgets/controls",
     "model_name": "ProgressStyleModel",
     "state": {
      "_model_module": "@jupyter-widgets/controls",
      "_model_module_version": "1.5.0",
      "_model_name": "ProgressStyleModel",
      "_view_count": null,
      "_view_module": "@jupyter-widgets/base",
      "_view_module_version": "1.2.0",
      "_view_name": "StyleView",
      "bar_color": null,
      "description_width": "initial"
     }
    }
   }
  }
 },
 "nbformat": 4,
 "nbformat_minor": 1
}
